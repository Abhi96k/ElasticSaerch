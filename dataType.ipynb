{
 "cells": [
  {
   "cell_type": "code",
   "id": "initial_id",
   "metadata": {
    "collapsed": true,
    "ExecuteTime": {
     "end_time": "2025-08-04T16:42:55.057196Z",
     "start_time": "2025-08-04T16:42:54.949181Z"
    }
   },
   "source": [
    "from pprint import pprint\n",
    "from elasticsearch import Elasticsearch\n",
    "\n",
    "es = Elasticsearch(\"http://localhost:9200\")\n",
    "client_info = es.info()\n",
    "print(\"Elasticsearch Client Information:\")\n",
    "pprint(client_info)\n"
   ],
   "outputs": [
    {
     "name": "stdout",
     "output_type": "stream",
     "text": [
      "Elasticsearch Client Information:\n",
      "ObjectApiResponse({'name': '82c3cca05ad1', 'cluster_name': 'docker-cluster', 'cluster_uuid': 'PuXwAaOSSK-vVPeGsKp1QA', 'version': {'number': '8.15.0', 'build_flavor': 'default', 'build_type': 'docker', 'build_hash': '1a77947f34deddb41af25e6f0ddb8e830159c179', 'build_date': '2024-08-05T10:05:34.233336849Z', 'build_snapshot': False, 'lucene_version': '9.11.1', 'minimum_wire_compatibility_version': '7.17.0', 'minimum_index_compatibility_version': '7.0.0'}, 'tagline': 'You Know, for Search'})\n"
     ]
    },
    {
     "name": "stderr",
     "output_type": "stream",
     "text": [
      "/Users/abhishek/ElasticSearch/.venv1/lib/python3.9/site-packages/urllib3/__init__.py:35: NotOpenSSLWarning: urllib3 v2 only supports OpenSSL 1.1.1+, currently the 'ssl' module is compiled with 'LibreSSL 2.8.3'. See: https://github.com/urllib3/urllib3/issues/3020\n",
      "  warnings.warn(\n"
     ]
    }
   ],
   "execution_count": 1
  },
  {
   "metadata": {},
   "cell_type": "markdown",
   "source": "## Filed Data Types",
   "id": "58bba94c3727c40f"
  },
  {
   "metadata": {},
   "cell_type": "code",
   "outputs": [],
   "execution_count": null,
   "source": "",
   "id": "e57d7d8e41ea1388"
  },
  {
   "metadata": {},
   "cell_type": "markdown",
   "source": [
    "### Comman Data Types\n",
    "#### Binary\n",
    "\n",
    "##### use _source (i.e document body ) to get the data back\n",
    "\n",
    "❌ Not usable for full-text search\n",
    "\n",
    "❌ Not usable for aggregations\n",
    "\n",
    "❌ Not usable for sorting\n",
    "\n",
    "✅ What binary fields can be used for\n",
    "Storage only — like a mini file server or blob store\n",
    "Retrieving the original file (e.g., download from frontend)"
   ],
   "id": "ee456fe6e1801318"
  },
  {
   "metadata": {
    "ExecuteTime": {
     "end_time": "2025-08-04T16:57:32.738567Z",
     "start_time": "2025-08-04T16:57:32.588155Z"
    }
   },
   "cell_type": "code",
   "source": [
    "# Delete the index if it exists\n",
    "if es.indices.exists(index=\"binary_index\"):\n",
    "    es.indices.delete(index=\"binary_index\")\n",
    "\n",
    "# Create the index with binary field mapping\n",
    "es.indices.create(\n",
    "    index=\"binary_index\",\n",
    "    body={\n",
    "        \"settings\": {\n",
    "            \"number_of_shards\": 1,\n",
    "            \"number_of_replicas\": 0\n",
    "        },\n",
    "        \"mappings\": {\n",
    "            \"properties\": {\n",
    "                \"file_content\": {\n",
    "                    \"type\": \"binary\"\n",
    "                }\n",
    "            }\n",
    "        }\n",
    "    }\n",
    ")\n"
   ],
   "id": "66880bf31d055848",
   "outputs": [
    {
     "data": {
      "text/plain": [
       "ObjectApiResponse({'acknowledged': True, 'shards_acknowledged': True, 'index': 'binary_index'})"
      ]
     },
     "execution_count": 3,
     "metadata": {},
     "output_type": "execute_result"
    }
   ],
   "execution_count": 3
  },
  {
   "metadata": {
    "ExecuteTime": {
     "end_time": "2025-08-04T16:58:32.698384Z",
     "start_time": "2025-08-04T16:58:32.643838Z"
    }
   },
   "cell_type": "code",
   "source": [
    "import base64\n",
    "# Sample binary data (e.g., an image or a file)\n",
    "binary_data = base64.b64encode(b\"This is a sample binary data.\").decode('utf-8')\n",
    "# Document to be indexed\n",
    "document = {\n",
    "    \"file_content\": binary_data\n",
    "}\n",
    "# Index the document\n",
    "response = es.index(index=\"binary_index\", body=document)\n",
    "print(\"Document indexed successfully:\")\n",
    "pprint(response)\n"
   ],
   "id": "40ac4f0ba8b4cfb",
   "outputs": [
    {
     "name": "stdout",
     "output_type": "stream",
     "text": [
      "Document indexed successfully:\n",
      "ObjectApiResponse({'_index': 'binary_index', '_id': 'HcgFdpgB54fw1oOJQYVl', '_version': 1, 'result': 'created', '_shards': {'total': 1, 'successful': 1, 'failed': 0}, '_seq_no': 0, '_primary_term': 1})\n"
     ]
    }
   ],
   "execution_count": 4
  },
  {
   "metadata": {},
   "cell_type": "code",
   "outputs": [],
   "execution_count": null,
   "source": "",
   "id": "97c813c6ad93067a"
  },
  {
   "metadata": {},
   "cell_type": "markdown",
   "source": "## other data Types",
   "id": "75ead52355b0721"
  },
  {
   "metadata": {
    "ExecuteTime": {
     "end_time": "2025-08-04T17:03:20.525883Z",
     "start_time": "2025-08-04T17:03:20.342381Z"
    }
   },
   "cell_type": "code",
   "source": [
    "es.indices.delete(index=\"other_data_types_index\", ignore_unavailable=True)\n",
    "es.indices.create(index=\"other_data_types_index\", mappings=\n",
    "                  {\n",
    "        \"properties\": {\n",
    "            \"boolean_field\": {\"type\": \"boolean\"},\n",
    "            \"date_field\": {\"type\": \"date\"},\n",
    "            \"geo_point_field\": {\"type\": \"geo_point\"},\n",
    "            \"keyword_field\": {\"type\": \"keyword\"},\n",
    "            \"long_field\": {\"type\": \"long\"},\n",
    "            \"text_field\": {\"type\": \"text\"}\n",
    "        }\n",
    "    }\n",
    ")"
   ],
   "id": "9f48a0270d915b7",
   "outputs": [
    {
     "data": {
      "text/plain": [
       "ObjectApiResponse({'acknowledged': True, 'shards_acknowledged': True, 'index': 'other_data_types_index'})"
      ]
     },
     "execution_count": 5,
     "metadata": {},
     "output_type": "execute_result"
    }
   ],
   "execution_count": 5
  },
  {
   "metadata": {
    "ExecuteTime": {
     "end_time": "2025-08-04T17:03:56.822221Z",
     "start_time": "2025-08-04T17:03:56.702748Z"
    }
   },
   "cell_type": "code",
   "source": [
    "document={\n",
    "    \"boolean_field\": True,\n",
    "    \"date_field\": \"2023-10-01\",\n",
    "    \"geo_point_field\": {\"lat\": 40.7128, \"lon\": -74.0060},\n",
    "    \"keyword_field\": \"example_keyword\",\n",
    "    \"long_field\": 1234567890123456789,\n",
    "    \"text_field\": \"This is an example of a text field.\"\n",
    "}\n",
    "\n",
    "response = es.index(index=\"other_data_types_index\", body=document)"
   ],
   "id": "c6ea46f4a7b9dc51",
   "outputs": [],
   "execution_count": 6
  },
  {
   "metadata": {
    "ExecuteTime": {
     "end_time": "2025-08-04T17:04:05.849318Z",
     "start_time": "2025-08-04T17:04:05.846163Z"
    }
   },
   "cell_type": "code",
   "source": [
    "print(\"Document indexed successfully:\")\n",
    "pprint(response)"
   ],
   "id": "c25bef7c06193096",
   "outputs": [
    {
     "name": "stdout",
     "output_type": "stream",
     "text": [
      "Document indexed successfully:\n",
      "ObjectApiResponse({'_index': 'other_data_types_index', '_id': 'HsgKdpgB54fw1oOJM4Uy', '_version': 1, 'result': 'created', '_shards': {'total': 2, 'successful': 1, 'failed': 0}, '_seq_no': 0, '_primary_term': 1})\n"
     ]
    }
   ],
   "execution_count": 7
  },
  {
   "metadata": {},
   "cell_type": "markdown",
   "source": [
    "### object data type\n",
    "#### An object data type is used to store structured data in a JSON-like format. It allows you to index and search nested fields within a document.\n",
    "#### It is useful for representing complex data structures, such as user profiles, product details, or any other hierarchical data.\n",
    "#### It can contain multiple fields, each with its own data type, and supports nested objects."
   ],
   "id": "fce94350e603e84d"
  },
  {
   "metadata": {
    "ExecuteTime": {
     "end_time": "2025-08-04T17:09:47.502749Z",
     "start_time": "2025-08-04T17:09:47.369926Z"
    }
   },
   "cell_type": "code",
   "source": [
    "es.indices.delete(index=\"object_index\", ignore_unavailable=True)\n",
    "es.indices.create(index=\"object_index\",\n",
    "                  mappings={\n",
    "    \"properties\": {\n",
    "        \"user\": {\n",
    "            \"type\": \"object\",\n",
    "            \"properties\": {\n",
    "                \"name\": {\"type\": \"text\"},\n",
    "                \"email\": {\"type\": \"keyword\"},\n",
    "                \"address\": {\n",
    "                    \"type\": \"object\",\n",
    "                    \"properties\": {\n",
    "                        \"street\": {\"type\": \"text\"},\n",
    "                        \"city\": {\"type\": \"text\"},\n",
    "                        \"state\": {\"type\": \"keyword\"},\n",
    "                        \"zip\": {\"type\": \"keyword\"}\n",
    "                    }\n",
    "                  }\n",
    "            }\n",
    "        }\n",
    "    }\n",
    "                  }\n",
    "                  )"
   ],
   "id": "3812ca77031421a9",
   "outputs": [
    {
     "data": {
      "text/plain": [
       "ObjectApiResponse({'acknowledged': True, 'shards_acknowledged': True, 'index': 'object_index'})"
      ]
     },
     "execution_count": 8,
     "metadata": {},
     "output_type": "execute_result"
    }
   ],
   "execution_count": 8
  },
  {
   "metadata": {
    "ExecuteTime": {
     "end_time": "2025-08-04T17:12:55.755553Z",
     "start_time": "2025-08-04T17:12:55.717350Z"
    }
   },
   "cell_type": "code",
   "source": [
    "document={\n",
    "    \"user\": {\n",
    "        \"name\": \"John Doe\",\n",
    "        \"email\": \"abhisheknangare@gmail.com\",\n",
    "        \"address\":{\n",
    "            \"street\": \"123 Main St\",\n",
    "            \"city\": \"Springfield\",\n",
    "            \"state\": \"IL\",\n",
    "            \"zip\": \"62701\"\n",
    "        }\n",
    "    }\n",
    "}\n",
    "response = es.index(index=\"object_index\", body=document)\n",
    "print(\"Document indexed successfully:\")\n",
    "pprint(response)"
   ],
   "id": "f13de624b203f3ef",
   "outputs": [
    {
     "name": "stdout",
     "output_type": "stream",
     "text": [
      "Document indexed successfully:\n",
      "ObjectApiResponse({'_index': 'object_index', '_id': 'IMgSdpgB54fw1oOJbIW7', '_version': 1, 'result': 'created', '_shards': {'total': 2, 'successful': 1, 'failed': 0}, '_seq_no': 1, '_primary_term': 1})\n"
     ]
    }
   ],
   "execution_count": 11
  },
  {
   "metadata": {},
   "cell_type": "markdown",
   "source": [
    "### flattened data type\n",
    "#### The flattened data type is used to index and search large JSON objects with many fields. It\n",
    "#### allows you to index fields with dynamic names without defining a fixed schema.\n",
    "#### It is useful for scenarios where you have a large number of fields with varying names, such\n",
    "#### as log data, event data, or any other unstructured data."
   ],
   "id": "3aa5ea3445c6a889"
  },
  {
   "metadata": {
    "ExecuteTime": {
     "end_time": "2025-08-04T17:14:35.269107Z",
     "start_time": "2025-08-04T17:14:35.109242Z"
    }
   },
   "cell_type": "code",
   "source": [
    "es.indices.delete(index=\"flatten_object_index\", ignore_unavailable=True)\n",
    "es.indices.create(index=\"flatten_object_index\",\n",
    "                  mappings={\n",
    "    \"properties\": {\n",
    "        \"event_data\": {\n",
    "            \"type\": \"flattened\"\n",
    "        }\n",
    "    }\n",
    "                  }\n",
    "                  )\n"
   ],
   "id": "f09be07ac86bd1b6",
   "outputs": [
    {
     "data": {
      "text/plain": [
       "ObjectApiResponse({'acknowledged': True, 'shards_acknowledged': True, 'index': 'flatten_object_index'})"
      ]
     },
     "execution_count": 13,
     "metadata": {},
     "output_type": "execute_result"
    }
   ],
   "execution_count": 13
  },
  {
   "metadata": {
    "ExecuteTime": {
     "end_time": "2025-08-04T17:14:49.926901Z",
     "start_time": "2025-08-04T17:14:49.899556Z"
    }
   },
   "cell_type": "code",
   "source": [
    "document={\n",
    "    \"event_data\": {\n",
    "        \"event_type\": \"user_login\",\n",
    "        \"user_id\": \"12345\",\n",
    "        \"timestamp\": \"2023-10-01T12:00:00Z\",\n",
    "        \"location\": \"New York\",\n",
    "        \"device\": \"mobile\"\n",
    "    }\n",
    "}\n",
    "response = es.index(index=\"flatten_object_index\", body=document)\n",
    "print(\"Document indexed successfully:\")\n",
    "pprint(response)"
   ],
   "id": "bfdb777b461f7984",
   "outputs": [
    {
     "name": "stdout",
     "output_type": "stream",
     "text": [
      "Document indexed successfully:\n",
      "ObjectApiResponse({'_index': 'flatten_object_index', '_id': 'IcgUdpgB54fw1oOJKoW2', '_version': 1, 'result': 'created', '_shards': {'total': 2, 'successful': 1, 'failed': 0}, '_seq_no': 0, '_primary_term': 1})\n"
     ]
    }
   ],
   "execution_count": 14
  },
  {
   "metadata": {},
   "cell_type": "code",
   "outputs": [],
   "execution_count": null,
   "source": "",
   "id": "60054bed4f35aff9"
  }
 ],
 "metadata": {
  "kernelspec": {
   "display_name": "Python 3",
   "language": "python",
   "name": "python3"
  },
  "language_info": {
   "codemirror_mode": {
    "name": "ipython",
    "version": 2
   },
   "file_extension": ".py",
   "mimetype": "text/x-python",
   "name": "python",
   "nbconvert_exporter": "python",
   "pygments_lexer": "ipython2",
   "version": "2.7.6"
  }
 },
 "nbformat": 4,
 "nbformat_minor": 5
}
