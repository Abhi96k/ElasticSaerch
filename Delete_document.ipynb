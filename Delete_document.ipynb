{
 "cells": [
  {
   "cell_type": "code",
   "id": "initial_id",
   "metadata": {
    "collapsed": true,
    "ExecuteTime": {
     "end_time": "2025-08-05T17:39:48.875859Z",
     "start_time": "2025-08-05T17:39:48.717756Z"
    }
   },
   "source": [
    "from pprint import pprint\n",
    "from elasticsearch import Elasticsearch\n",
    "\n",
    "es = Elasticsearch(\"http://localhost:9200\")\n",
    "client_info = es.info()\n",
    "print(\"Elasticsearch Client Information:\")\n",
    "pprint(client_info)\n"
   ],
   "outputs": [
    {
     "name": "stdout",
     "output_type": "stream",
     "text": [
      "Elasticsearch Client Information:\n",
      "ObjectApiResponse({'name': '82c3cca05ad1', 'cluster_name': 'docker-cluster', 'cluster_uuid': 'PuXwAaOSSK-vVPeGsKp1QA', 'version': {'number': '8.15.0', 'build_flavor': 'default', 'build_type': 'docker', 'build_hash': '1a77947f34deddb41af25e6f0ddb8e830159c179', 'build_date': '2024-08-05T10:05:34.233336849Z', 'build_snapshot': False, 'lucene_version': '9.11.1', 'minimum_wire_compatibility_version': '7.17.0', 'minimum_index_compatibility_version': '7.0.0'}, 'tagline': 'You Know, for Search'})\n"
     ]
    },
    {
     "name": "stderr",
     "output_type": "stream",
     "text": [
      "/Users/abhishek/ElasticSearch/.venv1/lib/python3.9/site-packages/urllib3/__init__.py:35: NotOpenSSLWarning: urllib3 v2 only supports OpenSSL 1.1.1+, currently the 'ssl' module is compiled with 'LibreSSL 2.8.3'. See: https://github.com/urllib3/urllib3/issues/3020\n",
      "  warnings.warn(\n"
     ]
    }
   ],
   "execution_count": 1
  },
  {
   "metadata": {
    "ExecuteTime": {
     "end_time": "2025-08-04T19:35:12.984702Z",
     "start_time": "2025-08-04T19:35:12.803744Z"
    }
   },
   "cell_type": "code",
   "source": [
    "es.indices.delete(index=\"deleted_document\", ignore_unavailable=True)\n",
    "es.indices.create(\n",
    "    index=\"deleted_document\",\n",
    "    mappings={\n",
    "        \"properties\": {\n",
    "            \"suggestion\": {\n",
    "                \"type\": \"completion\",\n",
    "                \"analyzer\": \"simple\",\n",
    "                \"search_analyzer\": \"simple\"\n",
    "            },\n",
    "            \"category\": {\"type\": \"keyword\"},\n",
    "            \"timestamp\": {\"type\": \"date\"}  # ISO format: YYYY-MM-DD\n",
    "        }\n",
    "    }\n",
    ")"
   ],
   "id": "3be4931867c9dc7c",
   "outputs": [
    {
     "data": {
      "text/plain": [
       "ObjectApiResponse({'acknowledged': True, 'shards_acknowledged': True, 'index': 'deleted_document'})"
      ]
     },
     "execution_count": 2,
     "metadata": {},
     "output_type": "execute_result"
    }
   ],
   "execution_count": 2
  },
  {
   "metadata": {
    "ExecuteTime": {
     "end_time": "2025-08-04T19:35:29.254237Z",
     "start_time": "2025-08-04T19:35:29.249462Z"
    }
   },
   "cell_type": "code",
   "source": [
    "docs = [\n",
    "    {\n",
    "        \"_index\": \"deleted_document\",\n",
    "        \"_id\": \"1\",\n",
    "        \"_source\": {\n",
    "            \"suggestion\": {\"input\": [\"Spider-Man\"]},\n",
    "            \"category\": \"movie\",\n",
    "            \"timestamp\": \"2022-01-01\"\n",
    "        }\n",
    "    },\n",
    "    {\n",
    "        \"_index\": \"deleted_document\",\n",
    "        \"_id\": \"2\",\n",
    "        \"_source\": {\n",
    "            \"suggestion\": {\"input\": [\"Spirited Away\"]},\n",
    "            \"category\": \"anime\",\n",
    "            \"timestamp\": \"2023-01-01\"\n",
    "        }\n",
    "    },\n",
    "    {\n",
    "        \"_index\": \"deleted_document\",\n",
    "        \"_id\": \"3\",\n",
    "        \"_source\": {\n",
    "            \"suggestion\": {\"input\": [\"Split\"]},\n",
    "            \"category\": \"thriller\",\n",
    "            \"timestamp\": \"2021-01-01\"\n",
    "        }\n",
    "    }\n",
    "]\n"
   ],
   "id": "31cae0ded7e4c95f",
   "outputs": [],
   "execution_count": 3
  },
  {
   "metadata": {
    "ExecuteTime": {
     "end_time": "2025-08-04T19:36:01.455589Z",
     "start_time": "2025-08-04T19:36:01.449332Z"
    }
   },
   "cell_type": "code",
   "source": [
    "def insert_documents(docs):\n",
    "    for doc in docs:\n",
    "        response = es.index(index=doc[\"_index\"], id=doc[\"_id\"], document=doc[\"_source\"])\n",
    "        print(f\"Document indexed successfully: {response['result']}\")"
   ],
   "id": "2ec2fb8cb22c7362",
   "outputs": [],
   "execution_count": 5
  },
  {
   "metadata": {
    "ExecuteTime": {
     "end_time": "2025-08-04T19:36:06.024853Z",
     "start_time": "2025-08-04T19:36:05.965161Z"
    }
   },
   "cell_type": "code",
   "source": "insert_documents(docs)",
   "id": "4f7873d3fefed100",
   "outputs": [
    {
     "name": "stdout",
     "output_type": "stream",
     "text": [
      "Document indexed successfully: created\n",
      "Document indexed successfully: created\n",
      "Document indexed successfully: created\n"
     ]
    }
   ],
   "execution_count": 6
  },
  {
   "metadata": {
    "ExecuteTime": {
     "end_time": "2025-08-04T19:36:20.937218Z",
     "start_time": "2025-08-04T19:36:20.798552Z"
    }
   },
   "cell_type": "code",
   "source": [
    "print(\"\\n📄 All documents before deletion:\")\n",
    "res = es.search(index=\"deleted_document\", query={\"match_all\": {}})\n",
    "for hit in res[\"hits\"][\"hits\"]:\n",
    "    pprint(hit)\n"
   ],
   "id": "a57c08f04c6ddca8",
   "outputs": [
    {
     "name": "stdout",
     "output_type": "stream",
     "text": [
      "\n",
      "📄 All documents before deletion:\n",
      "{'_id': '1',\n",
      " '_index': 'deleted_document',\n",
      " '_score': 1.0,\n",
      " '_source': {'category': 'movie',\n",
      "             'suggestion': {'input': ['Spider-Man']},\n",
      "             'timestamp': '2022-01-01'}}\n",
      "{'_id': '2',\n",
      " '_index': 'deleted_document',\n",
      " '_score': 1.0,\n",
      " '_source': {'category': 'anime',\n",
      "             'suggestion': {'input': ['Spirited Away']},\n",
      "             'timestamp': '2023-01-01'}}\n",
      "{'_id': '3',\n",
      " '_index': 'deleted_document',\n",
      " '_score': 1.0,\n",
      " '_source': {'category': 'thriller',\n",
      "             'suggestion': {'input': ['Split']},\n",
      "             'timestamp': '2021-01-01'}}\n"
     ]
    }
   ],
   "execution_count": 7
  },
  {
   "metadata": {
    "ExecuteTime": {
     "end_time": "2025-08-04T19:36:30.359700Z",
     "start_time": "2025-08-04T19:36:30.278580Z"
    }
   },
   "cell_type": "code",
   "source": [
    "print(\"\\n❌ Deleting document with ID = '3' (Split)\")\n",
    "es.delete(index=\"deleted_document\", id=\"3\", ignore=[404])\n"
   ],
   "id": "bb84de12ae5b278c",
   "outputs": [
    {
     "name": "stdout",
     "output_type": "stream",
     "text": [
      "\n",
      "❌ Deleting document with ID = '3' (Split)\n"
     ]
    },
    {
     "name": "stderr",
     "output_type": "stream",
     "text": [
      "/var/folders/vc/8d1xvyw94njcygfw5_dp8qw00000gn/T/ipykernel_56289/240576439.py:2: DeprecationWarning: Passing transport options in the API method is deprecated. Use 'Elasticsearch.options()' instead.\n",
      "  es.delete(index=\"deleted_document\", id=\"3\", ignore=[404])\n"
     ]
    },
    {
     "data": {
      "text/plain": [
       "ObjectApiResponse({'_index': 'deleted_document', '_id': '3', '_version': 2, 'result': 'deleted', '_shards': {'total': 2, 'successful': 1, 'failed': 0}, '_seq_no': 3, '_primary_term': 1})"
      ]
     },
     "execution_count": 8,
     "metadata": {},
     "output_type": "execute_result"
    }
   ],
   "execution_count": 8
  },
  {
   "metadata": {
    "ExecuteTime": {
     "end_time": "2025-08-04T19:36:48.058715Z",
     "start_time": "2025-08-04T19:36:48.025744Z"
    }
   },
   "cell_type": "code",
   "source": [
    "print(\"\\n📄 Documents after deleting ID '3':\")\n",
    "res = es.search(index=\"deleted_document\", query={\"match_all\": {}})\n",
    "for hit in res[\"hits\"][\"hits\"]:\n",
    "    pprint(hit)\n",
    "\n"
   ],
   "id": "18e1c81fad399d34",
   "outputs": [
    {
     "name": "stdout",
     "output_type": "stream",
     "text": [
      "\n",
      "📄 Documents after deleting ID '3':\n",
      "{'_id': '1',\n",
      " '_index': 'deleted_document',\n",
      " '_score': 1.0,\n",
      " '_source': {'category': 'movie',\n",
      "             'suggestion': {'input': ['Spider-Man']},\n",
      "             'timestamp': '2022-01-01'}}\n",
      "{'_id': '2',\n",
      " '_index': 'deleted_document',\n",
      " '_score': 1.0,\n",
      " '_source': {'category': 'anime',\n",
      "             'suggestion': {'input': ['Spirited Away']},\n",
      "             'timestamp': '2023-01-01'}}\n"
     ]
    }
   ],
   "execution_count": 9
  },
  {
   "metadata": {
    "ExecuteTime": {
     "end_time": "2025-08-04T19:36:56.414446Z",
     "start_time": "2025-08-04T19:36:56.232413Z"
    }
   },
   "cell_type": "code",
   "source": [
    "print(\"\\n🧹 Deleting documents with timestamp < 2023...\")\n",
    "es.delete_by_query(\n",
    "    index=\"deleted_document\",\n",
    "    body={\n",
    "        \"query\": {\n",
    "            \"range\": {\n",
    "                \"timestamp\": {\n",
    "                    \"lt\": \"2023-01-01\"\n",
    "                }\n",
    "            }\n",
    "        }\n",
    "    }\n",
    ")"
   ],
   "id": "c373974dff28b580",
   "outputs": [
    {
     "name": "stdout",
     "output_type": "stream",
     "text": [
      "\n",
      "🧹 Deleting documents with timestamp < 2023...\n"
     ]
    },
    {
     "data": {
      "text/plain": [
       "ObjectApiResponse({'took': 114, 'timed_out': False, 'total': 1, 'deleted': 1, 'batches': 1, 'version_conflicts': 0, 'noops': 0, 'retries': {'bulk': 0, 'search': 0}, 'throttled_millis': 0, 'requests_per_second': -1.0, 'throttled_until_millis': 0, 'failures': []})"
      ]
     },
     "execution_count": 10,
     "metadata": {},
     "output_type": "execute_result"
    }
   ],
   "execution_count": 10
  },
  {
   "metadata": {
    "ExecuteTime": {
     "end_time": "2025-08-04T19:37:03.721716Z",
     "start_time": "2025-08-04T19:37:03.689534Z"
    }
   },
   "cell_type": "code",
   "source": [
    "print(\"\\n✅ Final documents after query-based deletion:\")\n",
    "res = es.search(index=\"deleted_document\", query={\"match_all\": {}})\n",
    "for hit in res[\"hits\"][\"hits\"]:\n",
    "    pprint(hit)\n"
   ],
   "id": "f5f09a1085c5d8cc",
   "outputs": [
    {
     "name": "stdout",
     "output_type": "stream",
     "text": [
      "\n",
      "✅ Final documents after query-based deletion:\n",
      "{'_id': '2',\n",
      " '_index': 'deleted_document',\n",
      " '_score': 1.0,\n",
      " '_source': {'category': 'anime',\n",
      "             'suggestion': {'input': ['Spirited Away']},\n",
      "             'timestamp': '2023-01-01'}}\n"
     ]
    }
   ],
   "execution_count": 11
  },
  {
   "metadata": {},
   "cell_type": "code",
   "outputs": [],
   "execution_count": null,
   "source": "",
   "id": "77519c9b621d3423"
  }
 ],
 "metadata": {
  "kernelspec": {
   "display_name": "Python 3",
   "language": "python",
   "name": "python3"
  },
  "language_info": {
   "codemirror_mode": {
    "name": "ipython",
    "version": 2
   },
   "file_extension": ".py",
   "mimetype": "text/x-python",
   "name": "python",
   "nbconvert_exporter": "python",
   "pygments_lexer": "ipython2",
   "version": "2.7.6"
  }
 },
 "nbformat": 4,
 "nbformat_minor": 5
}
