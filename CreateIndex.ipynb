{
 "cells": [
  {
   "metadata": {},
   "cell_type": "markdown",
   "source": "### Elasticsearch Index Creation Example",
   "id": "8a77807f92f26ee"
  },
  {
   "metadata": {
    "ExecuteTime": {
     "end_time": "2025-08-03T06:10:36.137512Z",
     "start_time": "2025-08-03T06:10:36.091392Z"
    }
   },
   "cell_type": "code",
   "source": [
    "from pprint import pprint\n",
    "from elasticsearch import Elasticsearch\n",
    "\n",
    "es=Elasticsearch(\"http://localhost:9200\")\n",
    "client_info = es.info()\n",
    "print(\"Elasticsearch Client Information:\")\n",
    "pprint(client_info)\n"
   ],
   "id": "7751277cf5dcdc6",
   "outputs": [
    {
     "name": "stdout",
     "output_type": "stream",
     "text": [
      "Elasticsearch Client Information:\n",
      "ObjectApiResponse({'name': '82c3cca05ad1', 'cluster_name': 'docker-cluster', 'cluster_uuid': 'PuXwAaOSSK-vVPeGsKp1QA', 'version': {'number': '8.15.0', 'build_flavor': 'default', 'build_type': 'docker', 'build_hash': '1a77947f34deddb41af25e6f0ddb8e830159c179', 'build_date': '2024-08-05T10:05:34.233336849Z', 'build_snapshot': False, 'lucene_version': '9.11.1', 'minimum_wire_compatibility_version': '7.17.0', 'minimum_index_compatibility_version': '7.0.0'}, 'tagline': 'You Know, for Search'})\n"
     ]
    }
   ],
   "execution_count": 15
  },
  {
   "metadata": {
    "ExecuteTime": {
     "end_time": "2025-08-03T06:10:37.534891Z",
     "start_time": "2025-08-03T06:10:37.470695Z"
    }
   },
   "cell_type": "code",
   "source": "es.indices.create(index=\"my_index\")",
   "id": "b21ee7cef8809bfe",
   "outputs": [
    {
     "ename": "BadRequestError",
     "evalue": "BadRequestError(400, 'resource_already_exists_exception', 'index [my_index/AuQ3SaDiSvKrIy7K5T0khg] already exists')",
     "output_type": "error",
     "traceback": [
      "\u001B[0;31m---------------------------------------------------------------------------\u001B[0m",
      "\u001B[0;31mBadRequestError\u001B[0m                           Traceback (most recent call last)",
      "Cell \u001B[0;32mIn[16], line 1\u001B[0m\n\u001B[0;32m----> 1\u001B[0m \u001B[43mes\u001B[49m\u001B[38;5;241;43m.\u001B[39;49m\u001B[43mindices\u001B[49m\u001B[38;5;241;43m.\u001B[39;49m\u001B[43mcreate\u001B[49m\u001B[43m(\u001B[49m\u001B[43mindex\u001B[49m\u001B[38;5;241;43m=\u001B[39;49m\u001B[38;5;124;43m\"\u001B[39;49m\u001B[38;5;124;43mmy_index\u001B[39;49m\u001B[38;5;124;43m\"\u001B[39;49m\u001B[43m)\u001B[49m\n",
      "File \u001B[0;32m~/PyCharmMiscProject/.venv/lib/python3.9/site-packages/elasticsearch/_sync/client/utils.py:446\u001B[0m, in \u001B[0;36m_rewrite_parameters.<locals>.wrapper.<locals>.wrapped\u001B[0;34m(*args, **kwargs)\u001B[0m\n\u001B[1;32m    443\u001B[0m         \u001B[38;5;28;01mexcept\u001B[39;00m \u001B[38;5;167;01mKeyError\u001B[39;00m:\n\u001B[1;32m    444\u001B[0m             \u001B[38;5;28;01mpass\u001B[39;00m\n\u001B[0;32m--> 446\u001B[0m \u001B[38;5;28;01mreturn\u001B[39;00m \u001B[43mapi\u001B[49m\u001B[43m(\u001B[49m\u001B[38;5;241;43m*\u001B[39;49m\u001B[43margs\u001B[49m\u001B[43m,\u001B[49m\u001B[43m \u001B[49m\u001B[38;5;241;43m*\u001B[39;49m\u001B[38;5;241;43m*\u001B[39;49m\u001B[43mkwargs\u001B[49m\u001B[43m)\u001B[49m\n",
      "File \u001B[0;32m~/PyCharmMiscProject/.venv/lib/python3.9/site-packages/elasticsearch/_sync/client/indices.py:509\u001B[0m, in \u001B[0;36mIndicesClient.create\u001B[0;34m(self, index, aliases, error_trace, filter_path, human, mappings, master_timeout, pretty, settings, timeout, wait_for_active_shards, body)\u001B[0m\n\u001B[1;32m    507\u001B[0m \u001B[38;5;28;01mif\u001B[39;00m __body \u001B[38;5;129;01mis\u001B[39;00m \u001B[38;5;129;01mnot\u001B[39;00m \u001B[38;5;28;01mNone\u001B[39;00m:\n\u001B[1;32m    508\u001B[0m     __headers[\u001B[38;5;124m\"\u001B[39m\u001B[38;5;124mcontent-type\u001B[39m\u001B[38;5;124m\"\u001B[39m] \u001B[38;5;241m=\u001B[39m \u001B[38;5;124m\"\u001B[39m\u001B[38;5;124mapplication/json\u001B[39m\u001B[38;5;124m\"\u001B[39m\n\u001B[0;32m--> 509\u001B[0m \u001B[38;5;28;01mreturn\u001B[39;00m \u001B[38;5;28;43mself\u001B[39;49m\u001B[38;5;241;43m.\u001B[39;49m\u001B[43mperform_request\u001B[49m\u001B[43m(\u001B[49m\u001B[43m  \u001B[49m\u001B[38;5;66;43;03m# type: ignore[return-value]\u001B[39;49;00m\n\u001B[1;32m    510\u001B[0m \u001B[43m    \u001B[49m\u001B[38;5;124;43m\"\u001B[39;49m\u001B[38;5;124;43mPUT\u001B[39;49m\u001B[38;5;124;43m\"\u001B[39;49m\u001B[43m,\u001B[49m\u001B[43m \u001B[49m\u001B[43m__path\u001B[49m\u001B[43m,\u001B[49m\u001B[43m \u001B[49m\u001B[43mparams\u001B[49m\u001B[38;5;241;43m=\u001B[39;49m\u001B[43m__query\u001B[49m\u001B[43m,\u001B[49m\u001B[43m \u001B[49m\u001B[43mheaders\u001B[49m\u001B[38;5;241;43m=\u001B[39;49m\u001B[43m__headers\u001B[49m\u001B[43m,\u001B[49m\u001B[43m \u001B[49m\u001B[43mbody\u001B[49m\u001B[38;5;241;43m=\u001B[39;49m\u001B[43m__body\u001B[49m\n\u001B[1;32m    511\u001B[0m \u001B[43m\u001B[49m\u001B[43m)\u001B[49m\n",
      "File \u001B[0;32m~/PyCharmMiscProject/.venv/lib/python3.9/site-packages/elasticsearch/_sync/client/_base.py:389\u001B[0m, in \u001B[0;36mNamespacedClient.perform_request\u001B[0;34m(self, method, path, params, headers, body)\u001B[0m\n\u001B[1;32m    378\u001B[0m \u001B[38;5;28;01mdef\u001B[39;00m\u001B[38;5;250m \u001B[39m\u001B[38;5;21mperform_request\u001B[39m(\n\u001B[1;32m    379\u001B[0m     \u001B[38;5;28mself\u001B[39m,\n\u001B[1;32m    380\u001B[0m     method: \u001B[38;5;28mstr\u001B[39m,\n\u001B[0;32m   (...)\u001B[0m\n\u001B[1;32m    387\u001B[0m     \u001B[38;5;66;03m# Use the internal clients .perform_request() implementation\u001B[39;00m\n\u001B[1;32m    388\u001B[0m     \u001B[38;5;66;03m# so we take advantage of their transport options.\u001B[39;00m\n\u001B[0;32m--> 389\u001B[0m     \u001B[38;5;28;01mreturn\u001B[39;00m \u001B[38;5;28;43mself\u001B[39;49m\u001B[38;5;241;43m.\u001B[39;49m\u001B[43m_client\u001B[49m\u001B[38;5;241;43m.\u001B[39;49m\u001B[43mperform_request\u001B[49m\u001B[43m(\u001B[49m\n\u001B[1;32m    390\u001B[0m \u001B[43m        \u001B[49m\u001B[43mmethod\u001B[49m\u001B[43m,\u001B[49m\u001B[43m \u001B[49m\u001B[43mpath\u001B[49m\u001B[43m,\u001B[49m\u001B[43m \u001B[49m\u001B[43mparams\u001B[49m\u001B[38;5;241;43m=\u001B[39;49m\u001B[43mparams\u001B[49m\u001B[43m,\u001B[49m\u001B[43m \u001B[49m\u001B[43mheaders\u001B[49m\u001B[38;5;241;43m=\u001B[39;49m\u001B[43mheaders\u001B[49m\u001B[43m,\u001B[49m\u001B[43m \u001B[49m\u001B[43mbody\u001B[49m\u001B[38;5;241;43m=\u001B[39;49m\u001B[43mbody\u001B[49m\n\u001B[1;32m    391\u001B[0m \u001B[43m    \u001B[49m\u001B[43m)\u001B[49m\n",
      "File \u001B[0;32m~/PyCharmMiscProject/.venv/lib/python3.9/site-packages/elasticsearch/_sync/client/_base.py:320\u001B[0m, in \u001B[0;36mBaseClient.perform_request\u001B[0;34m(self, method, path, params, headers, body)\u001B[0m\n\u001B[1;32m    317\u001B[0m         \u001B[38;5;28;01mexcept\u001B[39;00m (\u001B[38;5;167;01mValueError\u001B[39;00m, \u001B[38;5;167;01mKeyError\u001B[39;00m, \u001B[38;5;167;01mTypeError\u001B[39;00m):\n\u001B[1;32m    318\u001B[0m             \u001B[38;5;28;01mpass\u001B[39;00m\n\u001B[0;32m--> 320\u001B[0m     \u001B[38;5;28;01mraise\u001B[39;00m HTTP_EXCEPTIONS\u001B[38;5;241m.\u001B[39mget(meta\u001B[38;5;241m.\u001B[39mstatus, ApiError)(\n\u001B[1;32m    321\u001B[0m         message\u001B[38;5;241m=\u001B[39mmessage, meta\u001B[38;5;241m=\u001B[39mmeta, body\u001B[38;5;241m=\u001B[39mresp_body\n\u001B[1;32m    322\u001B[0m     )\n\u001B[1;32m    324\u001B[0m \u001B[38;5;66;03m# 'X-Elastic-Product: Elasticsearch' should be on every 2XX response.\u001B[39;00m\n\u001B[1;32m    325\u001B[0m \u001B[38;5;28;01mif\u001B[39;00m \u001B[38;5;129;01mnot\u001B[39;00m \u001B[38;5;28mself\u001B[39m\u001B[38;5;241m.\u001B[39m_verified_elasticsearch:\n\u001B[1;32m    326\u001B[0m     \u001B[38;5;66;03m# If the header is set we mark the server as verified.\u001B[39;00m\n",
      "\u001B[0;31mBadRequestError\u001B[0m: BadRequestError(400, 'resource_already_exists_exception', 'index [my_index/AuQ3SaDiSvKrIy7K5T0khg] already exists')"
     ]
    }
   ],
   "execution_count": 16
  },
  {
   "metadata": {},
   "cell_type": "markdown",
   "source": "### cerate an index with settings and mappings",
   "id": "bf51ee977b0593ad"
  },
  {
   "metadata": {},
   "cell_type": "markdown",
   "source": [
    "# shard\n",
    "#### shard is a basic unit of storage in Elasticsearch. It is a self-contained index that can be stored on any node in the cluster. Each shard is a Lucene index, and it can be thought of as a single index that can be searched independently.\n",
    "\n",
    "# replica\n",
    "#### A replica is a copy of a shard. It is used to provide redundancy and high availability\n",
    "#### in case a node fails. Each shard can have multiple replicas, and each replica is stored\n",
    "#### on a different node in the cluster. This allows Elasticsearch to continue serving requests even if a node fails."
   ],
   "id": "b248ae1859958bf6"
  },
  {
   "metadata": {
    "ExecuteTime": {
     "end_time": "2025-08-03T06:11:05.802664Z",
     "start_time": "2025-08-03T06:11:05.600321Z"
    }
   },
   "cell_type": "code",
   "source": [
    "es.indices.delete(index=\"my_index\")\n",
    "es.indices.create(index=\"my_index\",\n",
    "                  settings={\n",
    "                      \"number_of_shards\": 3,\n",
    "                      \"number_of_replicas\": 2,}\n",
    "                  )\n"
   ],
   "id": "aed4ad76d357c6bb",
   "outputs": [
    {
     "data": {
      "text/plain": [
       "ObjectApiResponse({'acknowledged': True, 'shards_acknowledged': True, 'index': 'my_index'})"
      ]
     },
     "execution_count": 18,
     "metadata": {},
     "output_type": "execute_result"
    }
   ],
   "execution_count": 18
  },
  {
   "metadata": {},
   "cell_type": "code",
   "outputs": [],
   "execution_count": null,
   "source": "",
   "id": "e9b469392e892fbd"
  },
  {
   "metadata": {},
   "cell_type": "markdown",
   "source": "### create an index with mappings",
   "id": "2011b59246d1af32"
  },
  {
   "metadata": {
    "ExecuteTime": {
     "end_time": "2025-08-03T06:13:43.427339Z",
     "start_time": "2025-08-03T06:13:43.091505Z"
    }
   },
   "cell_type": "code",
   "source": [
    "document={\n",
    "    \"title\": \"Elasticsearch Basics\",\n",
    "    \"content\": \"This is a basic introduction to Elasticsearch.\",\n",
    "    \"author\": \"Abhishek Nangare\",\n",
    "    \"published_date\": \"2023-10-01\",\n",
    "    \"tags\": [\"elasticsearch\", \"search\", \"indexing\"]\n",
    "\n",
    "}\n",
    "\n",
    "responce=es.index(index=\"my_index\",body=document)\n",
    "print(\"Document indexed successfully:\")\n",
    "pprint(responce)"
   ],
   "id": "8f59fad6c64bd3bb",
   "outputs": [
    {
     "name": "stdout",
     "output_type": "stream",
     "text": [
      "Document indexed successfully:\n",
      "ObjectApiResponse({'_index': 'my_index', '_id': 'ARWQbpgBHrgWYUmvirKj', '_version': 1, 'result': 'created', '_shards': {'total': 3, 'successful': 1, 'failed': 0}, '_seq_no': 0, '_primary_term': 1})\n"
     ]
    }
   ],
   "execution_count": 19
  },
  {
   "metadata": {
    "ExecuteTime": {
     "end_time": "2025-08-03T06:14:39.865366Z",
     "start_time": "2025-08-03T06:14:39.861495Z"
    }
   },
   "cell_type": "code",
   "source": "print(responce[\"result\"])",
   "id": "6f4ad68942e3bf03",
   "outputs": [
    {
     "name": "stdout",
     "output_type": "stream",
     "text": [
      "created\n"
     ]
    }
   ],
   "execution_count": 20
  },
  {
   "metadata": {
    "ExecuteTime": {
     "end_time": "2025-08-03T06:15:05.196534Z",
     "start_time": "2025-08-03T06:15:05.194584Z"
    }
   },
   "cell_type": "code",
   "source": "print(responce[\"_shards\"])",
   "id": "288b9b1cccdf0a2b",
   "outputs": [
    {
     "name": "stdout",
     "output_type": "stream",
     "text": [
      "{'total': 3, 'successful': 1, 'failed': 0}\n"
     ]
    }
   ],
   "execution_count": 23
  },
  {
   "metadata": {},
   "cell_type": "markdown",
   "source": "### insert multiple documents",
   "id": "1ddc11d362127bfa"
  },
  {
   "metadata": {
    "ExecuteTime": {
     "end_time": "2025-08-03T06:44:08.567829Z",
     "start_time": "2025-08-03T06:44:08.544161Z"
    }
   },
   "cell_type": "code",
   "source": [
    "\n",
    "import json\n",
    "\n",
    "dummy_data=json.load(open(\"Data/data.json\"))"
   ],
   "id": "6ba6864f8a416b40",
   "outputs": [],
   "execution_count": 24
  },
  {
   "metadata": {
    "ExecuteTime": {
     "end_time": "2025-08-03T06:44:11.760435Z",
     "start_time": "2025-08-03T06:44:11.757488Z"
    }
   },
   "cell_type": "code",
   "source": "print(dummy_data)",
   "id": "2426bfe0646dbbd5",
   "outputs": [
    {
     "name": "stdout",
     "output_type": "stream",
     "text": [
      "{'results': [{'consumed': False, 'createdBy': 'superUser', 'job': {'displayType': 'Vizpad Report', 'type': 'ReportRequest'}, 'jobId': '49eba8a9-f47e-4086-9bfd-0eba79a0868d', 'jobType': 'VizPadRefresh', 'request': {'createdBy': '18d60756-712e-4867-a301-430ba7f58880', 'options': {'schedule': 'true', 'scheduleId': 'b33a206a-ad9c-43db-a326-16d7e691af03'}, 'vizPadId': '75868b4b-c6bd-4f59-8086-82c671512b1d'}, 'resource': {'id': '75868b4b-c6bd-4f59-8086-82c671512b1d', 'name': 'practice module - clone2', 'type': 'Vizpad'}, 'result': {'type': 'VizPadRefreshResponse$', 'vizPadId': '75868b4b-c6bd-4f59-8086-82c671512b1d'}, 'starttime': '2025-08-03T05:31:02.725Z', 'status': 'SUCCESS', 'timetaken': '31s'}, {'consumed': False, 'createdBy': 'superUser', 'job': {'displayType': 'Refresh', 'type': 'Refresh'}, 'jobId': '31f8615e-8968-4fd7-9887-fea53c867d6d', 'jobType': 'Refresh', 'reason': {'code': 11, 'message': 'failed to refresh all items associated to CR_Retrieval_Tracking__c_Dec1', 'metadata': {'refreshResponse': {'id': 'load_f78a1d09-f599-403d-8a02-90b5ad6b5109', 'isDataSource': False, 'refreshed': True, 'refreshedDatasets': [{'datasetId': 'load_f78a1d09-f599-403d-8a02-90b5ad6b5109', 'name': 'CR_Retrieval_Tracking__c_Dec1', 'reason': {'code': 1001, 'message': '{\"error\":\"invalid_grant\",\"error_description\":\"authentication failure\"}', 'severity': 'error', 'type': 'DatasetError'}, 'status': 'FAILURE'}]}, 'type': 'RefreshFailureErrorMetadata'}, 'severity': 'error', 'type': 'CompleteRefreshFailure'}, 'request': {'ranBy': '18d60756-712e-4867-a301-430ba7f58880', 'options': {'scheduled': 'true'}, 'id': '0edc158c-7c96-45e0-8b96-97495a734b64', 'scheduleId': '35362743-fca4-41f8-b0f6-3ccb192f9d9e', 'executionId': '795066'}, 'resource': {'id': 'load_f78a1d09-f599-403d-8a02-90b5ad6b5109', 'name': 'CR_Retrieval_Tracking__c_Dec1', 'type': 'Dataset'}, 'result': {'name': 'loadf78a1d09-f599-403d-8a02-90b5ad6b5109749', 'response': {'refreshedDatasets': [{'datasetId': 'load_f78a1d09-f599-403d-8a02-90b5ad6b5109', 'name': 'CR_Retrieval_Tracking__c_Dec1', 'reason': {'code': 1001, 'message': '{\"error\":\"invalid_grant\",\"error_description\":\"authentication failure\"}', 'severity': 'error', 'type': 'DatasetError'}, 'status': 'FAILURE'}], 'isDataSource': False, 'refreshed': True, 'id': 'load_f78a1d09-f599-403d-8a02-90b5ad6b5109', 'type': 'RefreshResponse$', 'stageType': 'refresh'}, 'stageStatus': [{'stageType': 'refresh', 'taskStatus': [{'reason': {'code': 11, 'message': 'failed to refresh all items associated to CR_Retrieval_Tracking__c_Dec1', 'metadata': {'refreshResponse': {'id': 'load_f78a1d09-f599-403d-8a02-90b5ad6b5109', 'isDataSource': False, 'refreshed': True, 'refreshedDatasets': [{'datasetId': 'load_f78a1d09-f599-403d-8a02-90b5ad6b5109', 'name': 'CR_Retrieval_Tracking__c_Dec1', 'reason': {'code': 1001, 'message': '{\"error\":\"invalid_grant\",\"error_description\":\"authentication failure\"}', 'severity': 'error', 'type': 'DatasetError'}, 'status': 'FAILURE'}]}, 'type': 'RefreshFailureErrorMetadata'}, 'severity': 'error', 'type': 'CompleteRefreshFailure'}, 'status': 'FAILURE', 'taskId': '236112cb-8d55-411d-a708-0ced143e3db4'}]}], 'status': 'FAILURE', 'type': 'PipeLineExecuteResponse$'}, 'starttime': '2025-08-03T05:23:20.220Z', 'status': 'FAILURE', 'timetaken': '5s'}, {'consumed': False, 'createdBy': 'superUser', 'job': {'displayType': 'Refresh', 'type': 'Refresh'}, 'jobId': 'cfaec328-4e36-4baa-b146-59dd60f97707', 'jobType': 'Refresh', 'reason': {'code': 11, 'message': 'failed to refresh all items associated to CR_Retrieval_Tracking__c_Dec1', 'metadata': {'refreshResponse': {'id': 'load_f78a1d09-f599-403d-8a02-90b5ad6b5109', 'isDataSource': False, 'refreshed': True, 'refreshedDatasets': [{'datasetId': 'load_f78a1d09-f599-403d-8a02-90b5ad6b5109', 'name': 'CR_Retrieval_Tracking__c_Dec1', 'reason': {'code': 1001, 'message': '{\"error\":\"invalid_grant\",\"error_description\":\"authentication failure\"}', 'severity': 'error', 'type': 'DatasetError'}, 'status': 'FAILURE'}]}, 'type': 'RefreshFailureErrorMetadata'}, 'severity': 'error', 'type': 'CompleteRefreshFailure'}, 'request': {'createdBy': '18d60756-712e-4867-a301-430ba7f58880', 'id': 'load_f78a1d09-f599-403d-8a02-90b5ad6b5109', 'options': {'refreshDependentDatasets': False, 'scheduleId': '35362743-fca4-41f8-b0f6-3ccb192f9d9e', 'schedule': 'true', 'excludedBusinessViewIds': [], 'mode': 'overwrite'}}, 'resource': {'id': 'load_f78a1d09-f599-403d-8a02-90b5ad6b5109', 'name': 'CR_Retrieval_Tracking__c_Dec1', 'type': 'Dataset'}, 'starttime': '2025-08-03T05:22:03.125Z', 'status': 'FAILURE'}, {'consumed': False, 'createdBy': 'superUser', 'job': {'displayType': 'Refresh', 'type': 'Refresh'}, 'jobId': '72dcb8f0-8fbd-437c-838c-a78e708ae59c', 'jobType': 'Refresh', 'reason': {'code': 1, 'message': 'schedule with 36a3fab6-f2bb-4b0d-9947-0f39e2121b23 not found', 'severity': 'error', 'type': 'GenericError'}, 'request': {'ranBy': '18d60756-712e-4867-a301-430ba7f58880', 'options': {'scheduled': 'true'}, 'id': '00850fe4-f84b-4c84-8e09-408e6d8dcf20', 'scheduleId': '36a3fab6-f2bb-4b0d-9947-0f39e2121b23', 'executionId': '795064'}, 'resource': {'id': '659ec71c-4d47-43ea-81a0-8e9ff4a6c7dc', 'name': '111 202210111400', 'type': 'Vizpad'}, 'starttime': '2025-08-03T05:17:55.420Z', 'status': 'FAILURE'}, {'consumed': False, 'createdBy': 'superUser', 'jobId': '923e068c-d29d-4d3e-8929-07b707459126', 'jobType': 'Refresh', 'reason': {'code': 1, 'message': 'Not able to get the PDF from server because \"{\\\\\"msg\\\\\":\\\\\"page not found\\\\\"}\"', 'severity': 'error', 'type': 'GenericError'}, 'request': {'ranBy': '18d60756-712e-4867-a301-430ba7f58880', 'options': {'scheduled': 'true'}, 'id': '0ed7f8b8-1fd9-4a1a-bbd9-ecc1b3b3e14c', 'scheduleId': '062f9884-fbeb-4927-9d38-7f4e2cef7d73', 'executionId': '795063'}, 'starttime': '2025-08-03T05:17:55.289Z', 'status': 'FAILURE'}, {'consumed': False, 'createdBy': 'superUser', 'job': {'displayType': 'Refresh', 'type': 'Refresh'}, 'jobId': 'f299d009-131f-483c-8594-4e7e907b0bcf', 'jobType': 'Refresh', 'reason': {'code': 1, 'message': 'Not able to get the PDF from server because {\"message\":\"It seems there\\'s an issue when trying to create the report.\"}', 'severity': 'error', 'type': 'GenericError'}, 'request': {'ranBy': '18d60756-712e-4867-a301-430ba7f58880', 'options': {'scheduled': 'true'}, 'id': '1ea25b91-befd-4c8a-a72f-88e3e2d558b8', 'scheduleId': '1f5c5b5e-b152-4fdc-a2ed-ad4d282df70e', 'executionId': '795065'}, 'resource': {'id': 'dbfd75ca-e31c-429c-ad37-283eedb24ecd', 'name': '2277 202210111120', 'type': 'Vizpad'}, 'starttime': '2025-08-03T05:17:22.839Z', 'status': 'FAILURE'}, {'consumed': False, 'createdBy': 'superUser', 'job': {'displayType': 'Refresh', 'type': 'Refresh'}, 'jobId': '77200663-d96c-4006-9865-1e4c529161b0', 'jobType': 'Refresh', 'reason': {'code': 1, 'message': 'Not able to get the PDF from server because {\"message\":\"It seems there\\'s an issue when trying to create the report.\"}', 'severity': 'error', 'type': 'GenericError'}, 'request': {'ranBy': '18d60756-712e-4867-a301-430ba7f58880', 'options': {'scheduled': 'true'}, 'id': 'e5fe9e88-5c14-4ee8-986a-4998bea15d73', 'scheduleId': '8d4c1510-9136-4ba1-ac76-761af1cb4b61', 'executionId': '795062'}, 'resource': {'id': '40ef9d8f-5a86-41e9-9b47-79c204215d56', 'name': 'conditional formatting teseting', 'type': 'Vizpad'}, 'starttime': '2025-08-03T05:17:22.483Z', 'status': 'FAILURE'}, {'consumed': False, 'createdBy': 'superUser', 'job': {'displayType': 'Refresh', 'type': 'Refresh'}, 'jobId': 'e48380fb-c112-4800-bc34-50323ed94f4e', 'jobType': 'Refresh', 'reason': {'code': 1, 'message': 'Not able to get the PDF from server because {\"message\":\"It seems there\\'s an issue when trying to create the report.\"}', 'severity': 'error', 'type': 'GenericError'}, 'request': {'ranBy': '18d60756-712e-4867-a301-430ba7f58880', 'options': {'scheduled': 'true'}, 'id': '0b90b0a7-7d80-4bca-9f18-de8194427f79', 'scheduleId': '78a3e1c4-9ef8-4d22-ad1e-0cd72f6978e4', 'executionId': '795060'}, 'resource': {'id': '80301a85-b0b6-48c3-9e24-de4fbe436061', 'name': 'asd', 'type': 'Vizpad'}, 'starttime': '2025-08-03T05:16:50.102Z', 'status': 'FAILURE'}, {'consumed': False, 'createdBy': 'superUser', 'job': {'displayType': 'Refresh', 'type': 'Refresh'}, 'jobId': '71ca919e-dc7e-4129-9547-7df77d577626', 'jobType': 'Refresh', 'reason': {'code': 1, 'message': 'Not able to get the PDF from server because {\"message\":\"It seems there\\'s an issue when trying to create the report.\"}', 'severity': 'error', 'type': 'GenericError'}, 'request': {'ranBy': '18d60756-712e-4867-a301-430ba7f58880', 'options': {'scheduled': 'true'}, 'id': 'd78f6dd6-5271-4871-af53-8db72a67740d', 'scheduleId': '6bbfad81-3eed-4a3d-8811-7591acf57426', 'executionId': '795058'}, 'resource': {'id': 'c05266c0-a454-484c-a3fa-74501f2ba238', 'name': 'TEL-1980', 'type': 'Vizpad'}, 'starttime': '2025-08-03T05:16:49.995Z', 'status': 'FAILURE'}, {'consumed': False, 'createdBy': 'superUser', 'job': {'displayType': 'Refresh', 'type': 'Refresh'}, 'jobId': 'ee40d5db-e343-4241-ab90-17345a0a9698', 'jobType': 'Refresh', 'reason': {'code': 1, 'message': 'Not able to get the PDF from server because {\"message\":\"It seems there\\'s an issue when trying to create the report.\"}', 'severity': 'error', 'type': 'GenericError'}, 'request': {'ranBy': '18d60756-712e-4867-a301-430ba7f58880', 'options': {'scheduled': 'true'}, 'id': 'a489e7eb-a06d-4503-94ef-1e871ba5a40a', 'scheduleId': '7795faf0-a0b0-44e3-858e-ff8c3fdcfd77', 'executionId': '795061'}, 'resource': {'id': '920a854c-7f69-477e-a9d0-1c316f7ddc51', 'name': 'Grids', 'type': 'Vizpad'}, 'starttime': '2025-08-03T05:16:49.893Z', 'status': 'FAILURE'}, {'consumed': False, 'createdBy': 'superUser', 'job': {'displayType': 'Refresh', 'type': 'Refresh'}, 'jobId': '946cfe32-0a50-4d15-b284-e6377cb63ac0', 'jobType': 'Refresh', 'reason': {'code': 1, 'message': '{\"msg\":\"page not found\"}', 'severity': 'error', 'type': 'GenericError'}, 'request': {'ranBy': '18d60756-712e-4867-a301-430ba7f58880', 'options': {'scheduled': 'true'}, 'id': 'caf42cf5-7b9b-4155-8305-529f7d951c7b', 'scheduleId': '74d006b1-ea07-4724-9a07-ea3c245c7d9b', 'executionId': '795059'}, 'resource': {'id': 'c03d33d0-e9af-41ea-b882-6d0e7453cd65', 'name': 'weekend date changes', 'type': 'Vizpad'}, 'starttime': '2025-08-03T05:16:49.794Z', 'status': 'FAILURE'}, {'consumed': False, 'createdBy': 'superUser', 'job': {'displayType': 'Refresh', 'type': 'Refresh'}, 'jobId': '8c3634ee-9bbc-417c-b2a0-3cc4e5ef8050', 'jobType': 'Refresh', 'reason': {'code': 1, 'message': 'Not able to get the PDF from server because {\"message\":\"It seems there\\'s an issue when trying to create the report.\"}', 'severity': 'error', 'type': 'GenericError'}, 'request': {'ranBy': '18d60756-712e-4867-a301-430ba7f58880', 'options': {'scheduled': 'true'}, 'id': '80f8297b-3493-466b-ad6f-132a1d2dacc7', 'scheduleId': '212a3e02-298f-441e-bbd8-ebb9a64e50d2', 'executionId': '795057'}, 'resource': {'id': '099e570b-5282-4915-a78f-2b8b05a791aa', 'name': 'tt 202211101423', 'type': 'Vizpad'}, 'starttime': '2025-08-03T05:16:49.712Z', 'status': 'FAILURE'}]}\n"
     ]
    }
   ],
   "execution_count": 25
  },
  {
   "metadata": {},
   "cell_type": "code",
   "outputs": [],
   "execution_count": null,
   "source": "",
   "id": "e22e9dbcd695c43c"
  }
 ],
 "metadata": {
  "kernelspec": {
   "display_name": "Python 3",
   "language": "python",
   "name": "python3"
  },
  "language_info": {
   "codemirror_mode": {
    "name": "ipython",
    "version": 2
   },
   "file_extension": ".py",
   "mimetype": "text/x-python",
   "name": "python",
   "nbconvert_exporter": "python",
   "pygments_lexer": "ipython2",
   "version": "2.7.6"
  }
 },
 "nbformat": 4,
 "nbformat_minor": 5
}
