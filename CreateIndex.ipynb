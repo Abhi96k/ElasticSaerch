{
 "cells": [
  {
   "metadata": {},
   "cell_type": "markdown",
   "source": "### Elasticsearch Index Creation Example",
   "id": "8a77807f92f26ee"
  },
  {
   "metadata": {
    "ExecuteTime": {
     "end_time": "2025-08-03T06:10:36.137512Z",
     "start_time": "2025-08-03T06:10:36.091392Z"
    }
   },
   "cell_type": "code",
   "source": [
    "from pprint import pprint\n",
    "from elasticsearch import Elasticsearch\n",
    "\n",
    "es=Elasticsearch(\"http://localhost:9200\")\n",
    "client_info = es.info()\n",
    "print(\"Elasticsearch Client Information:\")\n",
    "pprint(client_info)\n"
   ],
   "id": "7751277cf5dcdc6",
   "outputs": [
    {
     "name": "stdout",
     "output_type": "stream",
     "text": [
      "Elasticsearch Client Information:\n",
      "ObjectApiResponse({'name': '82c3cca05ad1', 'cluster_name': 'docker-cluster', 'cluster_uuid': 'PuXwAaOSSK-vVPeGsKp1QA', 'version': {'number': '8.15.0', 'build_flavor': 'default', 'build_type': 'docker', 'build_hash': '1a77947f34deddb41af25e6f0ddb8e830159c179', 'build_date': '2024-08-05T10:05:34.233336849Z', 'build_snapshot': False, 'lucene_version': '9.11.1', 'minimum_wire_compatibility_version': '7.17.0', 'minimum_index_compatibility_version': '7.0.0'}, 'tagline': 'You Know, for Search'})\n"
     ]
    }
   ],
   "execution_count": 15
  },
  {
   "metadata": {
    "ExecuteTime": {
     "end_time": "2025-08-03T06:10:37.534891Z",
     "start_time": "2025-08-03T06:10:37.470695Z"
    }
   },
   "cell_type": "code",
   "source": "es.indices.create(index=\"my_index\")",
   "id": "b21ee7cef8809bfe",
   "outputs": [
    {
     "ename": "BadRequestError",
     "evalue": "BadRequestError(400, 'resource_already_exists_exception', 'index [my_index/AuQ3SaDiSvKrIy7K5T0khg] already exists')",
     "output_type": "error",
     "traceback": [
      "\u001B[0;31m---------------------------------------------------------------------------\u001B[0m",
      "\u001B[0;31mBadRequestError\u001B[0m                           Traceback (most recent call last)",
      "Cell \u001B[0;32mIn[16], line 1\u001B[0m\n\u001B[0;32m----> 1\u001B[0m \u001B[43mes\u001B[49m\u001B[38;5;241;43m.\u001B[39;49m\u001B[43mindices\u001B[49m\u001B[38;5;241;43m.\u001B[39;49m\u001B[43mcreate\u001B[49m\u001B[43m(\u001B[49m\u001B[43mindex\u001B[49m\u001B[38;5;241;43m=\u001B[39;49m\u001B[38;5;124;43m\"\u001B[39;49m\u001B[38;5;124;43mmy_index\u001B[39;49m\u001B[38;5;124;43m\"\u001B[39;49m\u001B[43m)\u001B[49m\n",
      "File \u001B[0;32m~/PyCharmMiscProject/.venv/lib/python3.9/site-packages/elasticsearch/_sync/client/utils.py:446\u001B[0m, in \u001B[0;36m_rewrite_parameters.<locals>.wrapper.<locals>.wrapped\u001B[0;34m(*args, **kwargs)\u001B[0m\n\u001B[1;32m    443\u001B[0m         \u001B[38;5;28;01mexcept\u001B[39;00m \u001B[38;5;167;01mKeyError\u001B[39;00m:\n\u001B[1;32m    444\u001B[0m             \u001B[38;5;28;01mpass\u001B[39;00m\n\u001B[0;32m--> 446\u001B[0m \u001B[38;5;28;01mreturn\u001B[39;00m \u001B[43mapi\u001B[49m\u001B[43m(\u001B[49m\u001B[38;5;241;43m*\u001B[39;49m\u001B[43margs\u001B[49m\u001B[43m,\u001B[49m\u001B[43m \u001B[49m\u001B[38;5;241;43m*\u001B[39;49m\u001B[38;5;241;43m*\u001B[39;49m\u001B[43mkwargs\u001B[49m\u001B[43m)\u001B[49m\n",
      "File \u001B[0;32m~/PyCharmMiscProject/.venv/lib/python3.9/site-packages/elasticsearch/_sync/client/indices.py:509\u001B[0m, in \u001B[0;36mIndicesClient.create\u001B[0;34m(self, index, aliases, error_trace, filter_path, human, mappings, master_timeout, pretty, settings, timeout, wait_for_active_shards, body)\u001B[0m\n\u001B[1;32m    507\u001B[0m \u001B[38;5;28;01mif\u001B[39;00m __body \u001B[38;5;129;01mis\u001B[39;00m \u001B[38;5;129;01mnot\u001B[39;00m \u001B[38;5;28;01mNone\u001B[39;00m:\n\u001B[1;32m    508\u001B[0m     __headers[\u001B[38;5;124m\"\u001B[39m\u001B[38;5;124mcontent-type\u001B[39m\u001B[38;5;124m\"\u001B[39m] \u001B[38;5;241m=\u001B[39m \u001B[38;5;124m\"\u001B[39m\u001B[38;5;124mapplication/json\u001B[39m\u001B[38;5;124m\"\u001B[39m\n\u001B[0;32m--> 509\u001B[0m \u001B[38;5;28;01mreturn\u001B[39;00m \u001B[38;5;28;43mself\u001B[39;49m\u001B[38;5;241;43m.\u001B[39;49m\u001B[43mperform_request\u001B[49m\u001B[43m(\u001B[49m\u001B[43m  \u001B[49m\u001B[38;5;66;43;03m# type: ignore[return-value]\u001B[39;49;00m\n\u001B[1;32m    510\u001B[0m \u001B[43m    \u001B[49m\u001B[38;5;124;43m\"\u001B[39;49m\u001B[38;5;124;43mPUT\u001B[39;49m\u001B[38;5;124;43m\"\u001B[39;49m\u001B[43m,\u001B[49m\u001B[43m \u001B[49m\u001B[43m__path\u001B[49m\u001B[43m,\u001B[49m\u001B[43m \u001B[49m\u001B[43mparams\u001B[49m\u001B[38;5;241;43m=\u001B[39;49m\u001B[43m__query\u001B[49m\u001B[43m,\u001B[49m\u001B[43m \u001B[49m\u001B[43mheaders\u001B[49m\u001B[38;5;241;43m=\u001B[39;49m\u001B[43m__headers\u001B[49m\u001B[43m,\u001B[49m\u001B[43m \u001B[49m\u001B[43mbody\u001B[49m\u001B[38;5;241;43m=\u001B[39;49m\u001B[43m__body\u001B[49m\n\u001B[1;32m    511\u001B[0m \u001B[43m\u001B[49m\u001B[43m)\u001B[49m\n",
      "File \u001B[0;32m~/PyCharmMiscProject/.venv/lib/python3.9/site-packages/elasticsearch/_sync/client/_base.py:389\u001B[0m, in \u001B[0;36mNamespacedClient.perform_request\u001B[0;34m(self, method, path, params, headers, body)\u001B[0m\n\u001B[1;32m    378\u001B[0m \u001B[38;5;28;01mdef\u001B[39;00m\u001B[38;5;250m \u001B[39m\u001B[38;5;21mperform_request\u001B[39m(\n\u001B[1;32m    379\u001B[0m     \u001B[38;5;28mself\u001B[39m,\n\u001B[1;32m    380\u001B[0m     method: \u001B[38;5;28mstr\u001B[39m,\n\u001B[0;32m   (...)\u001B[0m\n\u001B[1;32m    387\u001B[0m     \u001B[38;5;66;03m# Use the internal clients .perform_request() implementation\u001B[39;00m\n\u001B[1;32m    388\u001B[0m     \u001B[38;5;66;03m# so we take advantage of their transport options.\u001B[39;00m\n\u001B[0;32m--> 389\u001B[0m     \u001B[38;5;28;01mreturn\u001B[39;00m \u001B[38;5;28;43mself\u001B[39;49m\u001B[38;5;241;43m.\u001B[39;49m\u001B[43m_client\u001B[49m\u001B[38;5;241;43m.\u001B[39;49m\u001B[43mperform_request\u001B[49m\u001B[43m(\u001B[49m\n\u001B[1;32m    390\u001B[0m \u001B[43m        \u001B[49m\u001B[43mmethod\u001B[49m\u001B[43m,\u001B[49m\u001B[43m \u001B[49m\u001B[43mpath\u001B[49m\u001B[43m,\u001B[49m\u001B[43m \u001B[49m\u001B[43mparams\u001B[49m\u001B[38;5;241;43m=\u001B[39;49m\u001B[43mparams\u001B[49m\u001B[43m,\u001B[49m\u001B[43m \u001B[49m\u001B[43mheaders\u001B[49m\u001B[38;5;241;43m=\u001B[39;49m\u001B[43mheaders\u001B[49m\u001B[43m,\u001B[49m\u001B[43m \u001B[49m\u001B[43mbody\u001B[49m\u001B[38;5;241;43m=\u001B[39;49m\u001B[43mbody\u001B[49m\n\u001B[1;32m    391\u001B[0m \u001B[43m    \u001B[49m\u001B[43m)\u001B[49m\n",
      "File \u001B[0;32m~/PyCharmMiscProject/.venv/lib/python3.9/site-packages/elasticsearch/_sync/client/_base.py:320\u001B[0m, in \u001B[0;36mBaseClient.perform_request\u001B[0;34m(self, method, path, params, headers, body)\u001B[0m\n\u001B[1;32m    317\u001B[0m         \u001B[38;5;28;01mexcept\u001B[39;00m (\u001B[38;5;167;01mValueError\u001B[39;00m, \u001B[38;5;167;01mKeyError\u001B[39;00m, \u001B[38;5;167;01mTypeError\u001B[39;00m):\n\u001B[1;32m    318\u001B[0m             \u001B[38;5;28;01mpass\u001B[39;00m\n\u001B[0;32m--> 320\u001B[0m     \u001B[38;5;28;01mraise\u001B[39;00m HTTP_EXCEPTIONS\u001B[38;5;241m.\u001B[39mget(meta\u001B[38;5;241m.\u001B[39mstatus, ApiError)(\n\u001B[1;32m    321\u001B[0m         message\u001B[38;5;241m=\u001B[39mmessage, meta\u001B[38;5;241m=\u001B[39mmeta, body\u001B[38;5;241m=\u001B[39mresp_body\n\u001B[1;32m    322\u001B[0m     )\n\u001B[1;32m    324\u001B[0m \u001B[38;5;66;03m# 'X-Elastic-Product: Elasticsearch' should be on every 2XX response.\u001B[39;00m\n\u001B[1;32m    325\u001B[0m \u001B[38;5;28;01mif\u001B[39;00m \u001B[38;5;129;01mnot\u001B[39;00m \u001B[38;5;28mself\u001B[39m\u001B[38;5;241m.\u001B[39m_verified_elasticsearch:\n\u001B[1;32m    326\u001B[0m     \u001B[38;5;66;03m# If the header is set we mark the server as verified.\u001B[39;00m\n",
      "\u001B[0;31mBadRequestError\u001B[0m: BadRequestError(400, 'resource_already_exists_exception', 'index [my_index/AuQ3SaDiSvKrIy7K5T0khg] already exists')"
     ]
    }
   ],
   "execution_count": 16
  },
  {
   "metadata": {},
   "cell_type": "markdown",
   "source": "### cerate an index with settings and mappings",
   "id": "bf51ee977b0593ad"
  },
  {
   "metadata": {},
   "cell_type": "markdown",
   "source": [
    "# shard\n",
    "#### shard is a basic unit of storage in Elasticsearch. It is a self-contained index that can be stored on any node in the cluster. Each shard is a Lucene index, and it can be thought of as a single index that can be searched independently.\n",
    "\n",
    "# replica\n",
    "#### A replica is a copy of a shard. It is used to provide redundancy and high availability\n",
    "#### in case a node fails. Each shard can have multiple replicas, and each replica is stored\n",
    "#### on a different node in the cluster. This allows Elasticsearch to continue serving requests even if a node fails."
   ],
   "id": "b248ae1859958bf6"
  },
  {
   "metadata": {
    "ExecuteTime": {
     "end_time": "2025-08-03T06:11:05.802664Z",
     "start_time": "2025-08-03T06:11:05.600321Z"
    }
   },
   "cell_type": "code",
   "source": [
    "es.indices.delete(index=\"my_index\")\n",
    "es.indices.create(index=\"my_index\",\n",
    "                  settings={\n",
    "                      \"number_of_shards\": 3,\n",
    "                      \"number_of_replicas\": 2,}\n",
    "                  )\n"
   ],
   "id": "aed4ad76d357c6bb",
   "outputs": [
    {
     "data": {
      "text/plain": [
       "ObjectApiResponse({'acknowledged': True, 'shards_acknowledged': True, 'index': 'my_index'})"
      ]
     },
     "execution_count": 18,
     "metadata": {},
     "output_type": "execute_result"
    }
   ],
   "execution_count": 18
  },
  {
   "metadata": {},
   "cell_type": "code",
   "outputs": [],
   "execution_count": null,
   "source": "",
   "id": "e9b469392e892fbd"
  },
  {
   "metadata": {},
   "cell_type": "markdown",
   "source": "### create an index with mappings",
   "id": "2011b59246d1af32"
  },
  {
   "metadata": {
    "ExecuteTime": {
     "end_time": "2025-08-03T06:13:43.427339Z",
     "start_time": "2025-08-03T06:13:43.091505Z"
    }
   },
   "cell_type": "code",
   "source": [
    "document={\n",
    "    \"title\": \"Elasticsearch Basics\",\n",
    "    \"content\": \"This is a basic introduction to Elasticsearch.\",\n",
    "    \"author\": \"Abhishek Nangare\",\n",
    "    \"published_date\": \"2023-10-01\",\n",
    "    \"tags\": [\"elasticsearch\", \"search\", \"indexing\"]\n",
    "\n",
    "}\n",
    "\n",
    "responce=es.index(index=\"my_index\",body=document)\n",
    "print(\"Document indexed successfully:\")\n",
    "pprint(responce)"
   ],
   "id": "8f59fad6c64bd3bb",
   "outputs": [
    {
     "name": "stdout",
     "output_type": "stream",
     "text": [
      "Document indexed successfully:\n",
      "ObjectApiResponse({'_index': 'my_index', '_id': 'ARWQbpgBHrgWYUmvirKj', '_version': 1, 'result': 'created', '_shards': {'total': 3, 'successful': 1, 'failed': 0}, '_seq_no': 0, '_primary_term': 1})\n"
     ]
    }
   ],
   "execution_count": 19
  },
  {
   "metadata": {
    "ExecuteTime": {
     "end_time": "2025-08-03T06:14:39.865366Z",
     "start_time": "2025-08-03T06:14:39.861495Z"
    }
   },
   "cell_type": "code",
   "source": "print(responce[\"result\"])",
   "id": "6f4ad68942e3bf03",
   "outputs": [
    {
     "name": "stdout",
     "output_type": "stream",
     "text": [
      "created\n"
     ]
    }
   ],
   "execution_count": 20
  },
  {
   "metadata": {
    "ExecuteTime": {
     "end_time": "2025-08-03T06:15:05.196534Z",
     "start_time": "2025-08-03T06:15:05.194584Z"
    }
   },
   "cell_type": "code",
   "source": "print(responce[\"_shards\"])",
   "id": "288b9b1cccdf0a2b",
   "outputs": [
    {
     "name": "stdout",
     "output_type": "stream",
     "text": [
      "{'total': 3, 'successful': 1, 'failed': 0}\n"
     ]
    }
   ],
   "execution_count": 23
  },
  {
   "metadata": {},
   "cell_type": "markdown",
   "source": "### insert multiple documents",
   "id": "1ddc11d362127bfa"
  },
  {
   "metadata": {},
   "cell_type": "code",
   "outputs": [],
   "execution_count": null,
   "source": "",
   "id": "6ba6864f8a416b40"
  }
 ],
 "metadata": {
  "kernelspec": {
   "display_name": "Python 3",
   "language": "python",
   "name": "python3"
  },
  "language_info": {
   "codemirror_mode": {
    "name": "ipython",
    "version": 2
   },
   "file_extension": ".py",
   "mimetype": "text/x-python",
   "name": "python",
   "nbconvert_exporter": "python",
   "pygments_lexer": "ipython2",
   "version": "2.7.6"
  }
 },
 "nbformat": 4,
 "nbformat_minor": 5
}
