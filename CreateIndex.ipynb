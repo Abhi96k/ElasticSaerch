{
 "cells": [
  {
   "metadata": {},
   "cell_type": "markdown",
   "source": "### Elasticsearch Index Creation Example",
   "id": "8a77807f92f26ee"
  },
  {
   "metadata": {
    "ExecuteTime": {
     "end_time": "2025-08-04T16:39:17.435307Z",
     "start_time": "2025-08-04T16:39:17.360453Z"
    }
   },
   "cell_type": "code",
   "source": [
    "from pprint import pprint\n",
    "from elasticsearch import Elasticsearch\n",
    "\n",
    "es = Elasticsearch(\"http://localhost:9200\")\n",
    "client_info = es.info()\n",
    "print(\"Elasticsearch Client Information:\")\n",
    "pprint(client_info)\n"
   ],
   "id": "7751277cf5dcdc6",
   "outputs": [
    {
     "name": "stdout",
     "output_type": "stream",
     "text": [
      "Elasticsearch Client Information:\n",
      "ObjectApiResponse({'name': '82c3cca05ad1', 'cluster_name': 'docker-cluster', 'cluster_uuid': 'PuXwAaOSSK-vVPeGsKp1QA', 'version': {'number': '8.15.0', 'build_flavor': 'default', 'build_type': 'docker', 'build_hash': '1a77947f34deddb41af25e6f0ddb8e830159c179', 'build_date': '2024-08-05T10:05:34.233336849Z', 'build_snapshot': False, 'lucene_version': '9.11.1', 'minimum_wire_compatibility_version': '7.17.0', 'minimum_index_compatibility_version': '7.0.0'}, 'tagline': 'You Know, for Search'})\n"
     ]
    }
   ],
   "execution_count": 1
  },
  {
   "metadata": {
    "ExecuteTime": {
     "end_time": "2025-08-04T16:39:22.022014Z",
     "start_time": "2025-08-04T16:39:21.796629Z"
    }
   },
   "cell_type": "code",
   "source": "es.indices.create(index=\"my_index\")",
   "id": "b21ee7cef8809bfe",
   "outputs": [
    {
     "ename": "BadRequestError",
     "evalue": "BadRequestError(400, 'resource_already_exists_exception', 'index [my_index/4WJnnuAGTQW-IhjtDEPjwg] already exists')",
     "output_type": "error",
     "traceback": [
      "\u001B[31m---------------------------------------------------------------------------\u001B[39m",
      "\u001B[31mBadRequestError\u001B[39m                           Traceback (most recent call last)",
      "\u001B[36mCell\u001B[39m\u001B[36m \u001B[39m\u001B[32mIn[2]\u001B[39m\u001B[32m, line 1\u001B[39m\n\u001B[32m----> \u001B[39m\u001B[32m1\u001B[39m \u001B[43mes\u001B[49m\u001B[43m.\u001B[49m\u001B[43mindices\u001B[49m\u001B[43m.\u001B[49m\u001B[43mcreate\u001B[49m\u001B[43m(\u001B[49m\u001B[43mindex\u001B[49m\u001B[43m=\u001B[49m\u001B[33;43m\"\u001B[39;49m\u001B[33;43mmy_index\u001B[39;49m\u001B[33;43m\"\u001B[39;49m\u001B[43m)\u001B[49m\n",
      "\u001B[36mFile \u001B[39m\u001B[32m~/ElasticSearch/.venv/lib/python3.13/site-packages/elasticsearch/_sync/client/utils.py:446\u001B[39m, in \u001B[36m_rewrite_parameters.<locals>.wrapper.<locals>.wrapped\u001B[39m\u001B[34m(*args, **kwargs)\u001B[39m\n\u001B[32m    443\u001B[39m         \u001B[38;5;28;01mexcept\u001B[39;00m \u001B[38;5;167;01mKeyError\u001B[39;00m:\n\u001B[32m    444\u001B[39m             \u001B[38;5;28;01mpass\u001B[39;00m\n\u001B[32m--> \u001B[39m\u001B[32m446\u001B[39m \u001B[38;5;28;01mreturn\u001B[39;00m \u001B[43mapi\u001B[49m\u001B[43m(\u001B[49m\u001B[43m*\u001B[49m\u001B[43margs\u001B[49m\u001B[43m,\u001B[49m\u001B[43m \u001B[49m\u001B[43m*\u001B[49m\u001B[43m*\u001B[49m\u001B[43mkwargs\u001B[49m\u001B[43m)\u001B[49m\n",
      "\u001B[36mFile \u001B[39m\u001B[32m~/ElasticSearch/.venv/lib/python3.13/site-packages/elasticsearch/_sync/client/indices.py:553\u001B[39m, in \u001B[36mIndicesClient.create\u001B[39m\u001B[34m(self, index, aliases, error_trace, filter_path, human, mappings, master_timeout, pretty, settings, timeout, wait_for_active_shards, body)\u001B[39m\n\u001B[32m    551\u001B[39m \u001B[38;5;28;01mif\u001B[39;00m __body \u001B[38;5;129;01mis\u001B[39;00m \u001B[38;5;129;01mnot\u001B[39;00m \u001B[38;5;28;01mNone\u001B[39;00m:\n\u001B[32m    552\u001B[39m     __headers[\u001B[33m\"\u001B[39m\u001B[33mcontent-type\u001B[39m\u001B[33m\"\u001B[39m] = \u001B[33m\"\u001B[39m\u001B[33mapplication/json\u001B[39m\u001B[33m\"\u001B[39m\n\u001B[32m--> \u001B[39m\u001B[32m553\u001B[39m \u001B[38;5;28;01mreturn\u001B[39;00m \u001B[38;5;28;43mself\u001B[39;49m\u001B[43m.\u001B[49m\u001B[43mperform_request\u001B[49m\u001B[43m(\u001B[49m\u001B[43m  \u001B[49m\u001B[38;5;66;43;03m# type: ignore[return-value]\u001B[39;49;00m\n\u001B[32m    554\u001B[39m \u001B[43m    \u001B[49m\u001B[33;43m\"\u001B[39;49m\u001B[33;43mPUT\u001B[39;49m\u001B[33;43m\"\u001B[39;49m\u001B[43m,\u001B[49m\n\u001B[32m    555\u001B[39m \u001B[43m    \u001B[49m\u001B[43m__path\u001B[49m\u001B[43m,\u001B[49m\n\u001B[32m    556\u001B[39m \u001B[43m    \u001B[49m\u001B[43mparams\u001B[49m\u001B[43m=\u001B[49m\u001B[43m__query\u001B[49m\u001B[43m,\u001B[49m\n\u001B[32m    557\u001B[39m \u001B[43m    \u001B[49m\u001B[43mheaders\u001B[49m\u001B[43m=\u001B[49m\u001B[43m__headers\u001B[49m\u001B[43m,\u001B[49m\n\u001B[32m    558\u001B[39m \u001B[43m    \u001B[49m\u001B[43mbody\u001B[49m\u001B[43m=\u001B[49m\u001B[43m__body\u001B[49m\u001B[43m,\u001B[49m\n\u001B[32m    559\u001B[39m \u001B[43m    \u001B[49m\u001B[43mendpoint_id\u001B[49m\u001B[43m=\u001B[49m\u001B[33;43m\"\u001B[39;49m\u001B[33;43mindices.create\u001B[39;49m\u001B[33;43m\"\u001B[39;49m\u001B[43m,\u001B[49m\n\u001B[32m    560\u001B[39m \u001B[43m    \u001B[49m\u001B[43mpath_parts\u001B[49m\u001B[43m=\u001B[49m\u001B[43m__path_parts\u001B[49m\u001B[43m,\u001B[49m\n\u001B[32m    561\u001B[39m \u001B[43m\u001B[49m\u001B[43m)\u001B[49m\n",
      "\u001B[36mFile \u001B[39m\u001B[32m~/ElasticSearch/.venv/lib/python3.13/site-packages/elasticsearch/_sync/client/_base.py:423\u001B[39m, in \u001B[36mNamespacedClient.perform_request\u001B[39m\u001B[34m(self, method, path, params, headers, body, endpoint_id, path_parts)\u001B[39m\n\u001B[32m    410\u001B[39m \u001B[38;5;28;01mdef\u001B[39;00m\u001B[38;5;250m \u001B[39m\u001B[34mperform_request\u001B[39m(\n\u001B[32m    411\u001B[39m     \u001B[38;5;28mself\u001B[39m,\n\u001B[32m    412\u001B[39m     method: \u001B[38;5;28mstr\u001B[39m,\n\u001B[32m   (...)\u001B[39m\u001B[32m    421\u001B[39m     \u001B[38;5;66;03m# Use the internal clients .perform_request() implementation\u001B[39;00m\n\u001B[32m    422\u001B[39m     \u001B[38;5;66;03m# so we take advantage of their transport options.\u001B[39;00m\n\u001B[32m--> \u001B[39m\u001B[32m423\u001B[39m     \u001B[38;5;28;01mreturn\u001B[39;00m \u001B[38;5;28;43mself\u001B[39;49m\u001B[43m.\u001B[49m\u001B[43m_client\u001B[49m\u001B[43m.\u001B[49m\u001B[43mperform_request\u001B[49m\u001B[43m(\u001B[49m\n\u001B[32m    424\u001B[39m \u001B[43m        \u001B[49m\u001B[43mmethod\u001B[49m\u001B[43m,\u001B[49m\n\u001B[32m    425\u001B[39m \u001B[43m        \u001B[49m\u001B[43mpath\u001B[49m\u001B[43m,\u001B[49m\n\u001B[32m    426\u001B[39m \u001B[43m        \u001B[49m\u001B[43mparams\u001B[49m\u001B[43m=\u001B[49m\u001B[43mparams\u001B[49m\u001B[43m,\u001B[49m\n\u001B[32m    427\u001B[39m \u001B[43m        \u001B[49m\u001B[43mheaders\u001B[49m\u001B[43m=\u001B[49m\u001B[43mheaders\u001B[49m\u001B[43m,\u001B[49m\n\u001B[32m    428\u001B[39m \u001B[43m        \u001B[49m\u001B[43mbody\u001B[49m\u001B[43m=\u001B[49m\u001B[43mbody\u001B[49m\u001B[43m,\u001B[49m\n\u001B[32m    429\u001B[39m \u001B[43m        \u001B[49m\u001B[43mendpoint_id\u001B[49m\u001B[43m=\u001B[49m\u001B[43mendpoint_id\u001B[49m\u001B[43m,\u001B[49m\n\u001B[32m    430\u001B[39m \u001B[43m        \u001B[49m\u001B[43mpath_parts\u001B[49m\u001B[43m=\u001B[49m\u001B[43mpath_parts\u001B[49m\u001B[43m,\u001B[49m\n\u001B[32m    431\u001B[39m \u001B[43m    \u001B[49m\u001B[43m)\u001B[49m\n",
      "\u001B[36mFile \u001B[39m\u001B[32m~/ElasticSearch/.venv/lib/python3.13/site-packages/elasticsearch/_sync/client/_base.py:271\u001B[39m, in \u001B[36mBaseClient.perform_request\u001B[39m\u001B[34m(self, method, path, params, headers, body, endpoint_id, path_parts)\u001B[39m\n\u001B[32m    255\u001B[39m \u001B[38;5;28;01mdef\u001B[39;00m\u001B[38;5;250m \u001B[39m\u001B[34mperform_request\u001B[39m(\n\u001B[32m    256\u001B[39m     \u001B[38;5;28mself\u001B[39m,\n\u001B[32m    257\u001B[39m     method: \u001B[38;5;28mstr\u001B[39m,\n\u001B[32m   (...)\u001B[39m\u001B[32m    264\u001B[39m     path_parts: Optional[Mapping[\u001B[38;5;28mstr\u001B[39m, Any]] = \u001B[38;5;28;01mNone\u001B[39;00m,\n\u001B[32m    265\u001B[39m ) -> ApiResponse[Any]:\n\u001B[32m    266\u001B[39m     \u001B[38;5;28;01mwith\u001B[39;00m \u001B[38;5;28mself\u001B[39m._otel.span(\n\u001B[32m    267\u001B[39m         method,\n\u001B[32m    268\u001B[39m         endpoint_id=endpoint_id,\n\u001B[32m    269\u001B[39m         path_parts=path_parts \u001B[38;5;129;01mor\u001B[39;00m {},\n\u001B[32m    270\u001B[39m     ) \u001B[38;5;28;01mas\u001B[39;00m otel_span:\n\u001B[32m--> \u001B[39m\u001B[32m271\u001B[39m         response = \u001B[38;5;28;43mself\u001B[39;49m\u001B[43m.\u001B[49m\u001B[43m_perform_request\u001B[49m\u001B[43m(\u001B[49m\n\u001B[32m    272\u001B[39m \u001B[43m            \u001B[49m\u001B[43mmethod\u001B[49m\u001B[43m,\u001B[49m\n\u001B[32m    273\u001B[39m \u001B[43m            \u001B[49m\u001B[43mpath\u001B[49m\u001B[43m,\u001B[49m\n\u001B[32m    274\u001B[39m \u001B[43m            \u001B[49m\u001B[43mparams\u001B[49m\u001B[43m=\u001B[49m\u001B[43mparams\u001B[49m\u001B[43m,\u001B[49m\n\u001B[32m    275\u001B[39m \u001B[43m            \u001B[49m\u001B[43mheaders\u001B[49m\u001B[43m=\u001B[49m\u001B[43mheaders\u001B[49m\u001B[43m,\u001B[49m\n\u001B[32m    276\u001B[39m \u001B[43m            \u001B[49m\u001B[43mbody\u001B[49m\u001B[43m=\u001B[49m\u001B[43mbody\u001B[49m\u001B[43m,\u001B[49m\n\u001B[32m    277\u001B[39m \u001B[43m            \u001B[49m\u001B[43motel_span\u001B[49m\u001B[43m=\u001B[49m\u001B[43motel_span\u001B[49m\u001B[43m,\u001B[49m\n\u001B[32m    278\u001B[39m \u001B[43m        \u001B[49m\u001B[43m)\u001B[49m\n\u001B[32m    279\u001B[39m         otel_span.set_elastic_cloud_metadata(response.meta.headers)\n\u001B[32m    280\u001B[39m         \u001B[38;5;28;01mreturn\u001B[39;00m response\n",
      "\u001B[36mFile \u001B[39m\u001B[32m~/ElasticSearch/.venv/lib/python3.13/site-packages/elasticsearch/_sync/client/_base.py:352\u001B[39m, in \u001B[36mBaseClient._perform_request\u001B[39m\u001B[34m(self, method, path, params, headers, body, otel_span)\u001B[39m\n\u001B[32m    349\u001B[39m         \u001B[38;5;28;01mexcept\u001B[39;00m (\u001B[38;5;167;01mValueError\u001B[39;00m, \u001B[38;5;167;01mKeyError\u001B[39;00m, \u001B[38;5;167;01mTypeError\u001B[39;00m):\n\u001B[32m    350\u001B[39m             \u001B[38;5;28;01mpass\u001B[39;00m\n\u001B[32m--> \u001B[39m\u001B[32m352\u001B[39m     \u001B[38;5;28;01mraise\u001B[39;00m HTTP_EXCEPTIONS.get(meta.status, ApiError)(\n\u001B[32m    353\u001B[39m         message=message, meta=meta, body=resp_body\n\u001B[32m    354\u001B[39m     )\n\u001B[32m    356\u001B[39m \u001B[38;5;66;03m# 'X-Elastic-Product: Elasticsearch' should be on every 2XX response.\u001B[39;00m\n\u001B[32m    357\u001B[39m \u001B[38;5;28;01mif\u001B[39;00m \u001B[38;5;129;01mnot\u001B[39;00m \u001B[38;5;28mself\u001B[39m._verified_elasticsearch:\n\u001B[32m    358\u001B[39m     \u001B[38;5;66;03m# If the header is set we mark the server as verified.\u001B[39;00m\n",
      "\u001B[31mBadRequestError\u001B[39m: BadRequestError(400, 'resource_already_exists_exception', 'index [my_index/4WJnnuAGTQW-IhjtDEPjwg] already exists')"
     ]
    }
   ],
   "execution_count": 2
  },
  {
   "metadata": {},
   "cell_type": "markdown",
   "source": "### cerate an index with settings and mappings",
   "id": "bf51ee977b0593ad"
  },
  {
   "metadata": {},
   "cell_type": "markdown",
   "source": [
    "# shard\n",
    "#### shard is a basic unit of storage in Elasticsearch. It is a self-contained index that can be stored on any node in the cluster. Each shard is a Lucene index, and it can be thought of as a single index that can be searched independently.\n",
    "\n",
    "# replica\n",
    "#### A replica is a copy of a shard. It is used to provide redundancy and high availability\n",
    "#### in case a node fails. Each shard can have multiple replicas, and each replica is stored\n",
    "#### on a different node in the cluster. This allows Elasticsearch to continue serving requests even if a node fails."
   ],
   "id": "b248ae1859958bf6"
  },
  {
   "metadata": {
    "ExecuteTime": {
     "end_time": "2025-08-04T16:39:25.588433Z",
     "start_time": "2025-08-04T16:39:25.377626Z"
    }
   },
   "cell_type": "code",
   "source": [
    "es.indices.delete(index=\"my_index\")\n",
    "es.indices.create(index=\"my_index\",\n",
    "                  settings={\n",
    "                      \"number_of_shards\": 3,\n",
    "                      \"number_of_replicas\": 2,}\n",
    "                  )\n"
   ],
   "id": "aed4ad76d357c6bb",
   "outputs": [
    {
     "data": {
      "text/plain": [
       "ObjectApiResponse({'acknowledged': True, 'shards_acknowledged': True, 'index': 'my_index'})"
      ]
     },
     "execution_count": 3,
     "metadata": {},
     "output_type": "execute_result"
    }
   ],
   "execution_count": 3
  },
  {
   "metadata": {},
   "cell_type": "code",
   "outputs": [],
   "execution_count": null,
   "source": "",
   "id": "e9b469392e892fbd"
  },
  {
   "metadata": {},
   "cell_type": "markdown",
   "source": "### create an index with mappings",
   "id": "2011b59246d1af32"
  },
  {
   "metadata": {
    "ExecuteTime": {
     "end_time": "2025-08-04T16:39:28.529244Z",
     "start_time": "2025-08-04T16:39:28.450467Z"
    }
   },
   "cell_type": "code",
   "source": [
    "document={\n",
    "    \"title\": \"Elasticsearch Basics\",\n",
    "    \"content\": \"This is a basic introduction to Elasticsearch.\",\n",
    "    \"author\": \"Abhishek Nangare\",\n",
    "    \"published_date\": \"2023-10-01\",\n",
    "    \"tags\": [\"elasticsearch\", \"search\", \"indexing\"]\n",
    "\n",
    "}\n",
    "\n",
    "responce=es.index(index=\"my_index\",body=document)\n",
    "print(\"Document indexed successfully:\")\n",
    "pprint(responce)"
   ],
   "id": "8f59fad6c64bd3bb",
   "outputs": [
    {
     "name": "stdout",
     "output_type": "stream",
     "text": [
      "Document indexed successfully:\n",
      "ObjectApiResponse({'_index': 'my_index', '_id': 'GMjzdZgB54fw1oOJy4Xa', '_version': 1, 'result': 'created', '_shards': {'total': 3, 'successful': 1, 'failed': 0}, '_seq_no': 0, '_primary_term': 1})\n"
     ]
    }
   ],
   "execution_count": 4
  },
  {
   "metadata": {
    "ExecuteTime": {
     "end_time": "2025-08-03T06:14:39.865366Z",
     "start_time": "2025-08-03T06:14:39.861495Z"
    }
   },
   "cell_type": "code",
   "source": "print(responce[\"result\"])",
   "id": "6f4ad68942e3bf03",
   "outputs": [
    {
     "name": "stdout",
     "output_type": "stream",
     "text": [
      "created\n"
     ]
    }
   ],
   "execution_count": 20
  },
  {
   "metadata": {
    "ExecuteTime": {
     "end_time": "2025-08-04T16:39:30.823942Z",
     "start_time": "2025-08-04T16:39:30.820561Z"
    }
   },
   "cell_type": "code",
   "source": "print(responce[\"_shards\"])",
   "id": "288b9b1cccdf0a2b",
   "outputs": [
    {
     "name": "stdout",
     "output_type": "stream",
     "text": [
      "{'total': 3, 'successful': 1, 'failed': 0}\n"
     ]
    }
   ],
   "execution_count": 5
  },
  {
   "metadata": {},
   "cell_type": "markdown",
   "source": "### insert multiple documents",
   "id": "1ddc11d362127bfa"
  },
  {
   "metadata": {
    "ExecuteTime": {
     "end_time": "2025-08-04T16:39:32.751785Z",
     "start_time": "2025-08-04T16:39:32.746496Z"
    }
   },
   "cell_type": "code",
   "source": [
    "\n",
    "import json\n",
    "\n",
    "dummy_data=json.load(open(\"Data/data.json\"))"
   ],
   "id": "6ba6864f8a416b40",
   "outputs": [],
   "execution_count": 6
  },
  {
   "metadata": {
    "ExecuteTime": {
     "end_time": "2025-08-04T16:39:33.918380Z",
     "start_time": "2025-08-04T16:39:33.915307Z"
    }
   },
   "cell_type": "code",
   "source": "print(dummy_data)",
   "id": "2426bfe0646dbbd5",
   "outputs": [
    {
     "name": "stdout",
     "output_type": "stream",
     "text": [
      "[{'id': 1, 'name': 'Alice Johnson', 'role': 'Software Engineer', 'age': 29, 'location': 'Bangalore', 'skills': ['Python', 'Elasticsearch', 'Docker'], 'joining_date': '2022-04-10', 'active': True}, {'id': 2, 'name': 'Bob Smith', 'role': 'Data Scientist', 'age': 35, 'location': 'Mumbai', 'skills': ['Python', 'Pandas', 'TensorFlow'], 'joining_date': '2021-08-22', 'active': True}, {'id': 3, 'name': 'Carol Williams', 'role': 'DevOps Engineer', 'age': 32, 'location': 'Delhi', 'skills': ['Kubernetes', 'AWS', 'Terraform'], 'joining_date': '2020-01-15', 'active': False}, {'id': 4, 'name': 'David Brown', 'role': 'Frontend Developer', 'age': 26, 'location': 'Pune', 'skills': ['React', 'JavaScript', 'CSS'], 'joining_date': '2023-01-05', 'active': True}]\n"
     ]
    }
   ],
   "execution_count": 7
  },
  {
   "metadata": {
    "ExecuteTime": {
     "end_time": "2025-08-04T16:39:36.050764Z",
     "start_time": "2025-08-04T16:39:35.983145Z"
    }
   },
   "cell_type": "code",
   "source": [
    "def insert_data(data):\n",
    "    responses = []\n",
    "    for doc in data:\n",
    "        response = es.index(index=\"my_index\", body=doc)\n",
    "        print(f\"Document indexed successfully: {response['result']}\")\n",
    "        responses.append(response)\n",
    "    return responses\n",
    "\n",
    "def print_shard_info(response):\n",
    "    print(\"Shard Information:\")\n",
    "    print(f\"Total Shards: {response['_shards']['total']}\")\n",
    "    print(f\"Successful Shards: {response['_shards']['successful']}\")\n",
    "    print(f\"Failed Shards: {response['_shards']['failed']}\")\n",
    "\n",
    "responses = insert_data(dummy_data)\n",
    "for response in responses:\n",
    "    print_shard_info(response)\n"
   ],
   "id": "e22e9dbcd695c43c",
   "outputs": [
    {
     "name": "stdout",
     "output_type": "stream",
     "text": [
      "Document indexed successfully: created\n",
      "Document indexed successfully: created\n",
      "Document indexed successfully: created\n",
      "Document indexed successfully: created\n",
      "Shard Information:\n",
      "Total Shards: 3\n",
      "Successful Shards: 1\n",
      "Failed Shards: 0\n",
      "Shard Information:\n",
      "Total Shards: 3\n",
      "Successful Shards: 1\n",
      "Failed Shards: 0\n",
      "Shard Information:\n",
      "Total Shards: 3\n",
      "Successful Shards: 1\n",
      "Failed Shards: 0\n",
      "Shard Information:\n",
      "Total Shards: 3\n",
      "Successful Shards: 1\n",
      "Failed Shards: 0\n"
     ]
    }
   ],
   "execution_count": 8
  },
  {
   "metadata": {},
   "cell_type": "markdown",
   "source": "### Mapping\n",
   "id": "bf3774dae28d98fb"
  },
  {
   "metadata": {
    "ExecuteTime": {
     "end_time": "2025-08-04T16:39:38.786556Z",
     "start_time": "2025-08-04T16:39:38.694777Z"
    }
   },
   "cell_type": "code",
   "source": [
    "from elasticsearch import Elasticsearch\n",
    "from pprint import pprint\n",
    "\n",
    "# Connect to Elasticsearch\n",
    "es = Elasticsearch(\"http://localhost:9200\")\n",
    "\n",
    "# Define the mapping\n",
    "mapping = {\n",
    "    \"mappings\": {\n",
    "        \"properties\": {\n",
    "            \"created_on\": {\n",
    "                \"type\": \"date\"\n",
    "            },\n",
    "            \"text\": {\n",
    "                \"type\": \"text\",\n",
    "                \"fields\": {\n",
    "                    \"keyword\": {\n",
    "                        \"type\": \"keyword\"\n",
    "                    }\n",
    "                }\n",
    "            },\n",
    "            \"title\": {\n",
    "                \"type\": \"text\"\n",
    "            }\n",
    "        }\n",
    "    }\n",
    "}\n",
    "\n",
    "# Delete the index if it exists\n",
    "es.indices.delete(index=\"my_index\", ignore_unavailable=True)\n",
    "\n",
    "# Create the index with the mapping\n",
    "es.indices.create(index=\"my_index\", body=mapping)\n",
    "\n",
    "# Fetch and print the mapping to confirm\n",
    "index_mapping = es.indices.get_mapping(index=\"my_index\")\n",
    "pprint(index_mapping)\n"
   ],
   "id": "d693e75640983022",
   "outputs": [
    {
     "name": "stdout",
     "output_type": "stream",
     "text": [
      "ObjectApiResponse({'my_index': {'mappings': {'properties': {'created_on': {'type': 'date'}, 'text': {'type': 'text', 'fields': {'keyword': {'type': 'keyword'}}}, 'title': {'type': 'text'}}}}})\n"
     ]
    }
   ],
   "execution_count": 9
  },
  {
   "metadata": {
    "ExecuteTime": {
     "end_time": "2025-08-04T16:26:54.586693Z",
     "start_time": "2025-08-04T16:26:54.585335Z"
    }
   },
   "cell_type": "code",
   "source": "",
   "id": "7080176f75632548",
   "outputs": [],
   "execution_count": null
  },
  {
   "metadata": {},
   "cell_type": "code",
   "outputs": [],
   "execution_count": null,
   "source": "",
   "id": "df890a54b49284f7"
  }
 ],
 "metadata": {
  "kernelspec": {
   "display_name": "ElasticSearch",
   "language": "python",
   "name": "elasticsearch"
  },
  "language_info": {
   "codemirror_mode": {
    "name": "ipython",
    "version": 2
   },
   "file_extension": ".py",
   "mimetype": "text/x-python",
   "name": "python",
   "nbconvert_exporter": "python",
   "pygments_lexer": "ipython2",
   "version": "2.7.6"
  }
 },
 "nbformat": 4,
 "nbformat_minor": 5
}
