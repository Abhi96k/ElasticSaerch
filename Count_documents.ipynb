{
 "cells": [
  {
   "cell_type": "code",
   "id": "initial_id",
   "metadata": {
    "collapsed": true,
    "ExecuteTime": {
     "end_time": "2025-08-05T19:23:20.557629Z",
     "start_time": "2025-08-05T19:23:20.422678Z"
    }
   },
   "source": [
    "from pprint import pprint\n",
    "from elasticsearch import Elasticsearch\n",
    "\n",
    "es = Elasticsearch(\"http://localhost:9200\")\n",
    "client_info = es.info()\n",
    "print(\"Elasticsearch Client Information:\")\n",
    "pprint(client_info)\n"
   ],
   "outputs": [
    {
     "name": "stdout",
     "output_type": "stream",
     "text": [
      "Elasticsearch Client Information:\n",
      "ObjectApiResponse({'name': '82c3cca05ad1', 'cluster_name': 'docker-cluster', 'cluster_uuid': 'PuXwAaOSSK-vVPeGsKp1QA', 'version': {'number': '8.15.0', 'build_flavor': 'default', 'build_type': 'docker', 'build_hash': '1a77947f34deddb41af25e6f0ddb8e830159c179', 'build_date': '2024-08-05T10:05:34.233336849Z', 'build_snapshot': False, 'lucene_version': '9.11.1', 'minimum_wire_compatibility_version': '7.17.0', 'minimum_index_compatibility_version': '7.0.0'}, 'tagline': 'You Know, for Search'})\n"
     ]
    },
    {
     "name": "stderr",
     "output_type": "stream",
     "text": [
      "/Users/abhishek/ElasticSearch/.venv1/lib/python3.9/site-packages/urllib3/__init__.py:35: NotOpenSSLWarning: urllib3 v2 only supports OpenSSL 1.1.1+, currently the 'ssl' module is compiled with 'LibreSSL 2.8.3'. See: https://github.com/urllib3/urllib3/issues/3020\n",
      "  warnings.warn(\n"
     ]
    }
   ],
   "execution_count": 2
  },
  {
   "metadata": {},
   "cell_type": "markdown",
   "source": [
    "### Count Documents\n",
    "#### Count the number of documents in an index\n"
   ],
   "id": "4fcef1ccbbb66a8f"
  },
  {
   "metadata": {
    "ExecuteTime": {
     "end_time": "2025-08-05T19:33:26.829618Z",
     "start_time": "2025-08-05T19:33:26.533272Z"
    }
   },
   "cell_type": "code",
   "source": [
    "index_name = \"user_profiles\"\n",
    "es.index(index=index_name, id=\"1\", document={\"name\": \"Abhi\", \"role\": \"ML Engineer\"})\n",
    "es.index(index=index_name, id=\"2\", document={\"name\": \"John\", \"role\": \"Data Scientist\"})\n",
    "es.index(index=index_name, id=\"3\", document={\"name\": \"Alice\", \"role\": \"ML Engineer\"})\n",
    "\n",
    "# Count all documents\n",
    "total = es.count(index=index_name)\n",
    "print(f\"Total Documents in index '{index_name}': {total['count']}\")\n",
    "\n",
    "# Count documents where role is ML Engineer\n",
    "query = {\n",
    "    \"query\": {\n",
    "        \"match\": {\n",
    "            \"role\": \"ML Engineer\"\n",
    "        }\n",
    "    }\n",
    "}\n",
    "ml_count = es.count(index=index_name, body=query)\n",
    "print(f\"Total ML Engineers: {ml_count['count']}\")"
   ],
   "id": "5a0da742eb10a5f8",
   "outputs": [
    {
     "name": "stdout",
     "output_type": "stream",
     "text": [
      "Total Documents in index 'user_profiles': 1\n",
      "Total ML Engineers: 1\n"
     ]
    }
   ],
   "execution_count": 5
  },
  {
   "metadata": {},
   "cell_type": "code",
   "outputs": [],
   "execution_count": null,
   "source": "",
   "id": "265530e0e80ebb"
  },
  {
   "metadata": {},
   "cell_type": "markdown",
   "source": [
    "| Purpose                      | Query Type    | Example                                        |\n",
    "| ---------------------------- | ------------- | ---------------------------------------------- |\n",
    "| Exact match (keyword field)  | `term` query  | `\"term\": { \"role.keyword\": \"ML Engineer\" }`    |m\n",
    "| Match partial or full (text) | `match` query | `\"match\": { \"role\": \"ML Engineer\" }`           |\n",
    "| Count by range               | `range` query | `\"range\": { \"age\": { \"gte\": 25, \"lte\": 30 } }` |\n",
    "| Multiple filters             | `bool` query  | `\"bool\": { \"must\": [...], \"filter\": [...] }`   |\n"
   ],
   "id": "25053ed886a660cb"
  },
  {
   "metadata": {
    "ExecuteTime": {
     "end_time": "2025-08-05T19:34:48.726806Z",
     "start_time": "2025-08-05T19:34:48.670269Z"
    }
   },
   "cell_type": "code",
   "source": [
    "total = es.count(index=\"_all\")\n",
    "print(\"Total documents in all indices:\", total['count'])\n"
   ],
   "id": "94662d6c831fcdb8",
   "outputs": [
    {
     "name": "stdout",
     "output_type": "stream",
     "text": [
      "Total documents in all indices: 13\n"
     ]
    }
   ],
   "execution_count": 6
  },
  {
   "metadata": {},
   "cell_type": "code",
   "outputs": [],
   "execution_count": null,
   "source": "",
   "id": "d10dc2727fd118a8"
  }
 ],
 "metadata": {
  "kernelspec": {
   "display_name": "Python 3",
   "language": "python",
   "name": "python3"
  },
  "language_info": {
   "codemirror_mode": {
    "name": "ipython",
    "version": 2
   },
   "file_extension": ".py",
   "mimetype": "text/x-python",
   "name": "python",
   "nbconvert_exporter": "python",
   "pygments_lexer": "ipython2",
   "version": "2.7.6"
  }
 },
 "nbformat": 4,
 "nbformat_minor": 5
}
