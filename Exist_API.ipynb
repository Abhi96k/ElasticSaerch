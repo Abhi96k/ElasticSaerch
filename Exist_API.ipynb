{
 "cells": [
  {
   "metadata": {},
   "cell_type": "raw",
   "source": "",
   "id": "7ff82688eacbca36"
  },
  {
   "metadata": {},
   "cell_type": "markdown",
   "source": "### Elasticsearch exists API",
   "id": "8ac13389b50aa132"
  },
  {
   "metadata": {
    "ExecuteTime": {
     "end_time": "2025-08-05T19:45:50.444372Z",
     "start_time": "2025-08-05T19:45:50.323899Z"
    }
   },
   "cell_type": "code",
   "source": [
    "from pprint import pprint\n",
    "from elasticsearch import Elasticsearch\n",
    "\n",
    "es = Elasticsearch(\"http://localhost:9200\")\n",
    "client_info = es.info()\n",
    "print(\"Elasticsearch Client Information:\")\n",
    "pprint(client_info)\n"
   ],
   "id": "44b57235b0f346b1",
   "outputs": [
    {
     "name": "stdout",
     "output_type": "stream",
     "text": [
      "Elasticsearch Client Information:\n",
      "ObjectApiResponse({'name': '82c3cca05ad1', 'cluster_name': 'docker-cluster', 'cluster_uuid': 'PuXwAaOSSK-vVPeGsKp1QA', 'version': {'number': '8.15.0', 'build_flavor': 'default', 'build_type': 'docker', 'build_hash': '1a77947f34deddb41af25e6f0ddb8e830159c179', 'build_date': '2024-08-05T10:05:34.233336849Z', 'build_snapshot': False, 'lucene_version': '9.11.1', 'minimum_wire_compatibility_version': '7.17.0', 'minimum_index_compatibility_version': '7.0.0'}, 'tagline': 'You Know, for Search'})\n"
     ]
    },
    {
     "name": "stderr",
     "output_type": "stream",
     "text": [
      "/Users/abhishek/ElasticSearch/.venv1/lib/python3.9/site-packages/urllib3/__init__.py:35: NotOpenSSLWarning: urllib3 v2 only supports OpenSSL 1.1.1+, currently the 'ssl' module is compiled with 'LibreSSL 2.8.3'. See: https://github.com/urllib3/urllib3/issues/3020\n",
      "  warnings.warn(\n"
     ]
    }
   ],
   "execution_count": 1
  },
  {
   "metadata": {},
   "cell_type": "code",
   "outputs": [],
   "execution_count": null,
   "source": "",
   "id": "cd775100701c2690"
  },
  {
   "metadata": {},
   "cell_type": "markdown",
   "source": "The Elasticsearch exists API lets you check if a document with a specific ID exists in an index — without retrieving the entire document.",
   "id": "53551f2f62b5f858"
  },
  {
   "metadata": {},
   "cell_type": "markdown",
   "source": [
    "It’s useful when you want to:\n",
    "\n",
    "1)Check if a document exists before inserting (to avoid duplicates)\n",
    "\n",
    "2)Check if a document exists before updating/deleting\n",
    "\n",
    "3)Avoid expensive .get() calls if you don’t need the data"
   ],
   "id": "feb420517318c249"
  },
  {
   "metadata": {
    "ExecuteTime": {
     "end_time": "2025-08-05T19:52:29.621073Z",
     "start_time": "2025-08-05T19:52:29.579256Z"
    }
   },
   "cell_type": "code",
   "source": [
    "index_name = \"user_profiles\"\n",
    "doc_id = \"u1234\"\n",
    "document = {\n",
    "    \"name\": \"Abhishek Nangare\",\n",
    "    \"role\": \"ML Engineer\",\n",
    "    \"location\": \"Pune\"\n",
    "}\n",
    "\n",
    "# Step 3: Check if the document already exists\n",
    "if es.exists(index=index_name, id=doc_id):\n",
    "    print(f\"❌ Document with ID '{doc_id}' already exists.\")\n",
    "    # Optionally fetch and display the existing document\n",
    "    existing_doc = es.get(index=index_name, id=doc_id)\n",
    "    pprint(existing_doc['_source'])\n",
    "else:\n",
    "    # Step 4: Insert the document since it doesn't exist\n",
    "    es.index(index=index_name, id=doc_id, document=document)\n",
    "    print(f\"✅ Document inserted with ID '{doc_id}'.\")\n",
    "\n",
    "# Step 5: Confirm the total count in index\n",
    "count = es.count(index=index_name)\n",
    "print(f\"\\n📊 Total documents in '{index_name}': {count['count']}\")"
   ],
   "id": "5dad25d208fd3e48",
   "outputs": [
    {
     "name": "stdout",
     "output_type": "stream",
     "text": [
      "✅ Document inserted with ID 'u1234'.\n",
      "\n",
      "📊 Total documents in 'user_profiles': 4\n"
     ]
    }
   ],
   "execution_count": 17
  },
  {
   "metadata": {
    "ExecuteTime": {
     "end_time": "2025-08-05T19:52:36.743978Z",
     "start_time": "2025-08-05T19:52:36.736257Z"
    }
   },
   "cell_type": "code",
   "source": [
    "count = es.count(index=index_name)\n",
    "print(f\"\\n📊 Total documents in '{index_name}': {count['count']}\")\n"
   ],
   "id": "1c3ae52541b831a6",
   "outputs": [
    {
     "name": "stdout",
     "output_type": "stream",
     "text": [
      "\n",
      "📊 Total documents in 'user_profiles': 5\n"
     ]
    }
   ],
   "execution_count": 20
  },
  {
   "metadata": {
    "ExecuteTime": {
     "end_time": "2025-08-05T19:51:56.827803Z",
     "start_time": "2025-08-05T19:51:56.825553Z"
    }
   },
   "cell_type": "code",
   "source": "",
   "id": "3b8d4bea37edfe4b",
   "outputs": [],
   "execution_count": null
  },
  {
   "metadata": {
    "ExecuteTime": {
     "end_time": "2025-08-05T19:51:57.447002Z",
     "start_time": "2025-08-05T19:51:57.444601Z"
    }
   },
   "cell_type": "code",
   "source": "",
   "id": "417d807dd5a7a7b2",
   "outputs": [],
   "execution_count": null
  },
  {
   "metadata": {},
   "cell_type": "code",
   "outputs": [],
   "execution_count": null,
   "source": "",
   "id": "b920f3c88d7e4b8a"
  }
 ],
 "metadata": {
  "kernelspec": {
   "display_name": "Python 3",
   "language": "python",
   "name": "python3"
  },
  "language_info": {
   "codemirror_mode": {
    "name": "ipython",
    "version": 2
   },
   "file_extension": ".py",
   "mimetype": "text/x-python",
   "name": "python",
   "nbconvert_exporter": "python",
   "pygments_lexer": "ipython2",
   "version": "2.7.6"
  }
 },
 "nbformat": 4,
 "nbformat_minor": 5
}
